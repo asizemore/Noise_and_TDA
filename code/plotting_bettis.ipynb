{
 "cells": [
  {
   "cell_type": "code",
   "execution_count": 1,
   "metadata": {},
   "outputs": [
    {
     "data": {
      "text/html": [
       "<script>\n",
       "// Immediately-invoked-function-expression to avoid global variables.\n",
       "(function() {\n",
       "    var warning_div = document.getElementById(\"webio-warning-12618665284472871318\");\n",
       "    var hide = function () {\n",
       "        var script = document.getElementById(\"webio-setup-1865893682285423611\");\n",
       "        var parent = script && script.parentElement;\n",
       "        var grandparent = parent && parent.parentElement;\n",
       "        if (grandparent) {\n",
       "            grandparent.style.display = \"none\";\n",
       "        }\n",
       "        warning_div.style.display = \"none\";\n",
       "    };\n",
       "    if (typeof Jupyter !== \"undefined\") {\n",
       "        console.log(\"WebIO detected Jupyter notebook environment.\");\n",
       "        // Jupyter notebook.\n",
       "        var extensions = (\n",
       "            Jupyter\n",
       "            && Jupyter.notebook.config.data\n",
       "            && Jupyter.notebook.config.data.load_extensions\n",
       "        );\n",
       "        if (extensions && extensions[\"webio-jupyter-notebook\"]) {\n",
       "            // Extension already loaded.\n",
       "            console.log(\"Jupyter WebIO nbextension detected; not loading ad-hoc.\");\n",
       "            hide();\n",
       "            return;\n",
       "        }\n",
       "    } else if (window.location.pathname.includes(\"/lab\")) {\n",
       "        // Guessing JupyterLa\n",
       "        console.log(\"Jupyter Lab detected; make sure the @webio/jupyter-lab-provider labextension is installed.\");\n",
       "        hide();\n",
       "        return;\n",
       "    }\n",
       "})();\n",
       "\n",
       "</script>\n",
       "<p\n",
       "    id=\"webio-warning-12618665284472871318\"\n",
       "    class=\"output_text output_stderr\"\n",
       "    style=\"padding: 1em; font-weight: bold;\"\n",
       ">\n",
       "    Unable to load WebIO. Please make sure WebIO works for your Jupyter client.\n",
       "    For troubleshooting, please see <a href=\"https://juliagizmos.github.io/WebIO.jl/latest/providers/ijulia/\">\n",
       "    the WebIO/IJulia documentation</a>.\n",
       "    <!-- TODO: link to installation docs. -->\n",
       "</p>\n"
      ],
      "text/plain": [
       "HTML{String}(\"<script>\\n// Immediately-invoked-function-expression to avoid global variables.\\n(function() {\\n    var warning_div = document.getElementById(\\\"webio-warning-12618665284472871318\\\");\\n    var hide = function () {\\n        var script = document.getElementById(\\\"webio-setup-1865893682285423611\\\");\\n        var parent = script && script.parentElement;\\n        var grandparent = parent && parent.parentElement;\\n        if (grandparent) {\\n            grandparent.style.display = \\\"none\\\";\\n        }\\n        warning_div.style.display = \\\"none\\\";\\n    };\\n    if (typeof Jupyter !== \\\"undefined\\\") {\\n        console.log(\\\"WebIO detected Jupyter notebook environment.\\\");\\n        // Jupyter notebook.\\n        var extensions = (\\n            Jupyter\\n            && Jupyter.notebook.config.data\\n            && Jupyter.notebook.config.data.load_extensions\\n        );\\n        if (extensions && extensions[\\\"webio-jupyter-notebook\\\"]) {\\n            // Extension already loaded.\\n            console.log(\\\"Jupyter WebIO nbextension detected; not loading ad-hoc.\\\");\\n            hide();\\n            return;\\n        }\\n    } else if (window.location.pathname.includes(\\\"/lab\\\")) {\\n        // Guessing JupyterLa\\n        console.log(\\\"Jupyter Lab detected; make sure the @webio/jupyter-lab-provider labextension is installed.\\\");\\n        hide();\\n        return;\\n    }\\n})();\\n\\n</script>\\n<p\\n    id=\\\"webio-warning-12618665284472871318\\\"\\n    class=\\\"output_text output_stderr\\\"\\n    style=\\\"padding: 1em; font-weight: bold;\\\"\\n>\\n    Unable to load WebIO. Please make sure WebIO works for your Jupyter client.\\n    For troubleshooting, please see <a href=\\\"https://juliagizmos.github.io/WebIO.jl/latest/providers/ijulia/\\\">\\n    the WebIO/IJulia documentation</a>.\\n    <!-- TODO: link to installation docs. -->\\n</p>\\n\")"
      ]
     },
     "metadata": {},
     "output_type": "display_data"
    },
    {
     "name": "stdout",
     "output_type": "stream",
     "text": [
      "\n",
      "importing packages...\n"
     ]
    }
   ],
   "source": [
    "script_start_time = time()\n",
    "println(\"\\nimporting packages...\")\n",
    "\n",
    "using Pkg\n",
    "using Statistics\n",
    "using LinearAlgebra\n",
    "using Eirene\n",
    "using StatsBase\n",
    "using JLD\n",
    "using Plots\n",
    "# using ColorSchemes"
   ]
  },
  {
   "cell_type": "code",
   "execution_count": 2,
   "metadata": {},
   "outputs": [
    {
     "name": "stdout",
     "output_type": "stream",
     "text": [
      "packages imported\n",
      "importing functions...\n",
      "packages and functions imported\n",
      "\u001b[33mElapsed time = 22.64336085319519 seconds \u001b[39m\n",
      "\u001b[33m \u001b[39m\n",
      "Located the following graph files:\n",
      "DP_50_70_3_082520_backward_bettis.jld\n",
      "IID_50_70_082520_backward_bettis.jld\n",
      "RG_50_70_3_082520_backward_bettis.jld\n",
      "RL_50_70_082520_backward_bettis.jld\n",
      "assoc_700_100_100_20_20_09_05_082520_backward_bettis.jld\n",
      "coreperiph_700_100_100_20_20_09_05_082520_backward_bettis.jld\n",
      "cosineGeometric_50_70_3_082520_backward_bettis.jld\n",
      "disassort_700_100_100_20_20_09_05_082520_backward_bettis.jld\n",
      "discreteUniformConf_50_70_0_1000_082520_backward_bettis.jld\n",
      "geometricConf_500_700_001_1000_082520_backward_bettis.jld\n",
      "Size bettisAllAvg is (2415, 3, 10)\n"
     ]
    }
   ],
   "source": [
    "### Plotting bettis\n",
    "\n",
    "\n",
    "\n",
    "\n",
    "println(\"packages imported\")\n",
    "\n",
    "println(\"importing functions...\")\n",
    "\n",
    "include(\"helper_functions.jl\")\n",
    "\n",
    "println(\"packages and functions imported\")\n",
    "printstyled(\"Elapsed time = $(time() - script_start_time) seconds \\n \\n\", color = :yellow)\n",
    "\n",
    "\n",
    "\n",
    "### Set parameters\n",
    "\n",
    "# Parameters for all graphs\n",
    "const NNODES = 70\n",
    "const MAXDIM = 3    # Maximum persistent homology dimension\n",
    "const NREPS = 50\n",
    "const NAMETAG = \"backward\"\n",
    "\n",
    "\n",
    "### Locate data\n",
    "read_dir = \"../processed_data/results/$(NNODES)nodes\"\n",
    "betti_files = filter(x->occursin(\"$(NAMETAG)_bettis.jld\",x), readdir(read_dir))\n",
    "println(\"Located the following graph files:\")\n",
    "for betti_file in betti_files\n",
    "    println(betti_file)\n",
    "end\n",
    "model_names = [split(betti_file,\"_\")[1] for betti_file in betti_files]\n",
    "\n",
    "\n",
    "### Create one large plot with all of the betti curves\n",
    "nModels = length(betti_files)\n",
    "nEdges = binomial(NNODES, 2)\n",
    "bettisAll = zeros(NREPS, nEdges, MAXDIM, nModels)\n",
    "for (i,betti_file) in enumerate(betti_files)\n",
    "\n",
    "    # Read in Betti curves\n",
    "    betti_dict = load(\"$(read_dir)/$(betti_file)\")\n",
    "    bettisAll[:,:,:, i] = betti_dict[\"bettisArray\"]\n",
    "\n",
    "end\n",
    "\n",
    "bettisAllAvg = dropdims(mean(bettisAll, dims=1), dims=1)\n",
    "println(\"Size bettisAllAvg is $(size(bettisAllAvg))\")\n",
    "\n",
    "# Finally plot\n",
    "p1a = plot(bettisAllAvg[:,1,:], layout = 12, size = (1000,800), title = [\"$(model_names[i])\" for j=1:1, i=1:nModels])\n",
    "for d=2:MAXDIM\n",
    "    plot!(bettisAllAvg[:,d,:],legend = nothing, xlabel = \"Edges added\", ylabel=\"Beta_k\")\n",
    "    \n",
    "end\n",
    "\n",
    "\n",
    "savefig(\"../figures/all_bettis_$(NAMETAG).pdf\")\n",
    "\n",
    "\n",
    "\n"
   ]
  },
  {
   "cell_type": "code",
   "execution_count": 9,
   "metadata": {},
   "outputs": [
    {
     "data": {
      "text/plain": [
       "50×3 Array{Array{Float64,N} where N,2}:\n",
       " [85.0 97.0; 101.0 116.0; … ; 173.0 358.0; 88.0 410.0]     …  [656.0 673.0]            \n",
       " [204.0 210.0; 223.0 246.0; … ; 162.0 470.0; 94.0 182.0]      Array{Float64}(undef,0,2)\n",
       " [42.0 53.0; 113.0 148.0; … ; 259.0 651.0; 175.0 321.0]       Array{Float64}(undef,0,2)\n",
       " [219.0 338.0; 230.0 258.0; … ; 159.0 367.0; 108.0 293.0]     Array{Float64}(undef,0,2)\n",
       " [100.0 130.0; 149.0 167.0; … ; 136.0 295.0; 139.0 504.0]     Array{Float64}(undef,0,2)\n",
       " [96.0 170.0; 142.0 149.0; … ; 270.0 455.0; 132.0 310.0]   …  Array{Float64}(undef,0,2)\n",
       " [85.0 101.0; 97.0 100.0; … ; 121.0 300.0; 122.0 293.0]       Array{Float64}(undef,0,2)\n",
       " [79.0 129.0; 134.0 138.0; … ; 123.0 301.0; 100.0 394.0]      Array{Float64}(undef,0,2)\n",
       " [202.0 304.0; 437.0 490.0; … ; 112.0 186.0; 223.0 484.0]     [992.0 994.0]            \n",
       " [130.0 149.0; 289.0 292.0; … ; 107.0 291.0; 144.0 315.0]     Array{Float64}(undef,0,2)\n",
       " [110.0 121.0; 140.0 150.0; … ; 157.0 265.0; 303.0 793.0]  …  Array{Float64}(undef,0,2)\n",
       " [140.0 211.0; 141.0 143.0; … ; 115.0 245.0; 111.0 256.0]     Array{Float64}(undef,0,2)\n",
       " [107.0 121.0; 132.0 156.0; … ; 262.0 434.0; 213.0 498.0]     Array{Float64}(undef,0,2)\n",
       " ⋮                                                         ⋱                           \n",
       " [33.0 37.0; 36.0 39.0; … ; 172.0 320.0; 296.0 446.0]         Array{Float64}(undef,0,2)\n",
       " [140.0 143.0; 141.0 167.0; … ; 118.0 190.0; 231.0 400.0]     Array{Float64}(undef,0,2)\n",
       " [134.0 145.0; 155.0 174.0; … ; 255.0 452.0; 152.0 676.0]  …  Array{Float64}(undef,0,2)\n",
       " [107.0 121.0; 151.0 160.0; … ; 156.0 249.0; 179.0 497.0]     Array{Float64}(undef,0,2)\n",
       " [90.0 109.0; 336.0 348.0; … ; 167.0 340.0; 176.0 381.0]      Array{Float64}(undef,0,2)\n",
       " [33.0 36.0; 142.0 205.0; … ; 119.0 267.0; 155.0 411.0]       Array{Float64}(undef,0,2)\n",
       " [91.0 169.0; 94.0 137.0; … ; 130.0 329.0; 86.0 191.0]        Array{Float64}(undef,0,2)\n",
       " [50.0 56.0; 78.0 130.0; … ; 125.0 328.0; 105.0 472.0]     …  Array{Float64}(undef,0,2)\n",
       " [103.0 116.0; 167.0 176.0; … ; 127.0 316.0; 118.0 337.0]     Array{Float64}(undef,0,2)\n",
       " [50.0 81.0; 136.0 163.0; … ; 175.0 362.0; 157.0 468.0]       Array{Float64}(undef,0,2)\n",
       " [89.0 96.0; 100.0 129.0; … ; 113.0 220.0; 108.0 270.0]       [464.0 524.0]            \n",
       " [122.0 141.0; 145.0 165.0; … ; 242.0 343.0; 171.0 470.0]     Array{Float64}(undef,0,2)"
      ]
     },
     "execution_count": 9,
     "metadata": {},
     "output_type": "execute_result"
    }
   ],
   "source": [
    "b1 = load(\"$(read_dir)/RG_50_70_3_082520_eireneoutput_backward.jld\")\n",
    "b1_ba = b1[\"barcodeArray\"]\n",
    "b2 = load(\"$(read_dir)/RG_50_70_3_082520_eireneoutput_forward.jld\")\n",
    "b2_ba = b2[\"barcodeArray\"]"
   ]
  },
  {
   "cell_type": "code",
   "execution_count": 10,
   "metadata": {},
   "outputs": [
    {
     "data": {
      "text/plain": [
       "false"
      ]
     },
     "execution_count": 10,
     "metadata": {},
     "output_type": "execute_result"
    }
   ],
   "source": [
    "b2_ba == b1_ba"
   ]
  },
  {
   "cell_type": "code",
   "execution_count": null,
   "metadata": {},
   "outputs": [],
   "source": []
  }
 ],
 "metadata": {
  "kernelspec": {
   "display_name": "Julia 1.2.0",
   "language": "julia",
   "name": "julia-1.2"
  },
  "language_info": {
   "file_extension": ".jl",
   "mimetype": "application/julia",
   "name": "julia",
   "version": "1.2.0"
  }
 },
 "nbformat": 4,
 "nbformat_minor": 2
}
