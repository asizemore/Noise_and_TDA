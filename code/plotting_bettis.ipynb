{
 "cells": [
  {
   "cell_type": "code",
   "execution_count": null,
   "metadata": {},
   "outputs": [],
   "source": [
    "script_start_time = time()\n",
    "println(\"\\nimporting packages...\")\n",
    "\n",
    "using Pkg\n",
    "using Statistics\n",
    "using LinearAlgebra\n",
    "using Eirene\n",
    "using StatsBase\n",
    "using JLD\n",
    "using Plots\n",
    "# using ColorSchemes"
   ]
  },
  {
   "cell_type": "code",
   "execution_count": 3,
   "metadata": {},
   "outputs": [
    {
     "name": "stdout",
     "output_type": "stream",
     "text": [
      "packages imported\n",
      "importing functions...\n",
      "packages and functions imported\n",
      "\u001b[33mElapsed time = 125.15242099761963 seconds \u001b[39m\n",
      "\u001b[33m \u001b[39m\n",
      "Located the following graph files:\n",
      "DP_50_70_3_082520_graphs_forward_bettis.jld\n",
      "IID_50_70_082520_graphs_forward_bettis.jld\n",
      "RG_50_70_3_082520_graphs_forward_bettis.jld\n",
      "RL_50_70_082520_graphs_forward_bettis.jld\n",
      "assoc_700_100_100_20_20_09_05_082520_graphs_forward_bettis.jld\n",
      "coreperiph_700_100_100_20_20_09_05_082520_graphs_forward_bettis.jld\n",
      "cosineGeometric_50_70_3_082520_graphs_forward_bettis.jld\n",
      "disassort_700_100_100_20_20_09_05_082520_graphs_forward_bettis.jld\n",
      "discreteUniformConf_50_70_0_1000_082520_graphs_forward_bettis.jld\n",
      "geometricConf_500_700_001_1000_082520_graphs_forward_bettis.jld\n",
      "Size bettisAllAvg is (2415, 3, 10)\n"
     ]
    }
   ],
   "source": [
    "### Plotting bettis\n",
    "\n",
    "\n",
    "\n",
    "\n",
    "println(\"packages imported\")\n",
    "\n",
    "println(\"importing functions...\")\n",
    "\n",
    "include(\"helper_functions.jl\")\n",
    "\n",
    "println(\"packages and functions imported\")\n",
    "printstyled(\"Elapsed time = $(time() - script_start_time) seconds \\n \\n\", color = :yellow)\n",
    "\n",
    "\n",
    "\n",
    "### Set parameters\n",
    "\n",
    "# Parameters for all graphs\n",
    "const NNODES = 70\n",
    "const MAXDIM = 3    # Maximum persistent homology dimension\n",
    "const NREPS = 50\n",
    "\n",
    "\n",
    "### Locate data\n",
    "read_dir = \"../processed_data/results/$(NNODES)nodes\"\n",
    "betti_files = filter(x->occursin(\"bettis.jld\",x), readdir(read_dir))\n",
    "println(\"Located the following graph files:\")\n",
    "for betti_file in betti_files\n",
    "    println(betti_file)\n",
    "end\n",
    "model_names = [split(betti_file,\"_\")[1] for betti_file in betti_files]\n",
    "\n",
    "\n",
    "### Create one large plot with all of the betti curves\n",
    "nModels = length(betti_files)\n",
    "nEdges = binomial(NNODES, 2)\n",
    "bettisAll = zeros(NREPS, nEdges, MAXDIM, nModels)\n",
    "for (i,betti_file) in enumerate(betti_files)\n",
    "\n",
    "    # Read in Betti curves\n",
    "    betti_dict = load(\"$(read_dir)/$(betti_file)\")\n",
    "    bettisAll[:,:,:, i] = betti_dict[\"bettisArray\"]\n",
    "\n",
    "end\n",
    "\n",
    "bettisAllAvg = dropdims(mean(bettisAll, dims=1), dims=1)\n",
    "println(\"Size bettisAllAvg is $(size(bettisAllAvg))\")\n",
    "\n",
    "# Finally plot\n",
    "p1a = plot(bettisAllAvg[:,1,:], layout = 12, size = (1000,800), title = [\"$(model_names[i])\" for j=1:1, i=1:nModels])\n",
    "for d=2:MAXDIM\n",
    "    plot!(bettisAllAvg[:,d,:],legend = nothing, xlabel = \"Edges added\", ylabel=\"Beta_k\")\n",
    "    \n",
    "end\n",
    "\n",
    "\n",
    "savefig(\"../figures/all_bettis_test.pdf\")\n",
    "\n",
    "\n",
    "\n"
   ]
  },
  {
   "cell_type": "code",
   "execution_count": null,
   "metadata": {},
   "outputs": [],
   "source": []
  }
 ],
 "metadata": {
  "kernelspec": {
   "display_name": "Julia 1.2.0",
   "language": "julia",
   "name": "julia-1.2"
  },
  "language_info": {
   "file_extension": ".jl",
   "mimetype": "application/julia",
   "name": "julia",
   "version": "1.2.0"
  }
 },
 "nbformat": 4,
 "nbformat_minor": 2
}
