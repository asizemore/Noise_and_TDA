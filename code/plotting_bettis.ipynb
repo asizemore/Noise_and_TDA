{
 "cells": [
  {
   "cell_type": "code",
   "execution_count": 1,
   "metadata": {},
   "outputs": [
    {
     "data": {
      "text/html": [
       "<script>\n",
       "// Immediately-invoked-function-expression to avoid global variables.\n",
       "(function() {\n",
       "    var warning_div = document.getElementById(\"webio-warning-647751808478665560\");\n",
       "    var hide = function () {\n",
       "        var script = document.getElementById(\"webio-setup-144237336994171638\");\n",
       "        var parent = script && script.parentElement;\n",
       "        var grandparent = parent && parent.parentElement;\n",
       "        if (grandparent) {\n",
       "            grandparent.style.display = \"none\";\n",
       "        }\n",
       "        warning_div.style.display = \"none\";\n",
       "    };\n",
       "    if (typeof Jupyter !== \"undefined\") {\n",
       "        console.log(\"WebIO detected Jupyter notebook environment.\");\n",
       "        // Jupyter notebook.\n",
       "        var extensions = (\n",
       "            Jupyter\n",
       "            && Jupyter.notebook.config.data\n",
       "            && Jupyter.notebook.config.data.load_extensions\n",
       "        );\n",
       "        if (extensions && extensions[\"webio-jupyter-notebook\"]) {\n",
       "            // Extension already loaded.\n",
       "            console.log(\"Jupyter WebIO nbextension detected; not loading ad-hoc.\");\n",
       "            hide();\n",
       "            return;\n",
       "        }\n",
       "    } else if (window.location.pathname.includes(\"/lab\")) {\n",
       "        // Guessing JupyterLa\n",
       "        console.log(\"Jupyter Lab detected; make sure the @webio/jupyter-lab-provider labextension is installed.\");\n",
       "        hide();\n",
       "        return;\n",
       "    }\n",
       "})();\n",
       "\n",
       "</script>\n",
       "<p\n",
       "    id=\"webio-warning-647751808478665560\"\n",
       "    class=\"output_text output_stderr\"\n",
       "    style=\"padding: 1em; font-weight: bold;\"\n",
       ">\n",
       "    Unable to load WebIO. Please make sure WebIO works for your Jupyter client.\n",
       "    For troubleshooting, please see <a href=\"https://juliagizmos.github.io/WebIO.jl/latest/providers/ijulia/\">\n",
       "    the WebIO/IJulia documentation</a>.\n",
       "    <!-- TODO: link to installation docs. -->\n",
       "</p>\n"
      ],
      "text/plain": [
       "HTML{String}(\"<script>\\n// Immediately-invoked-function-expression to avoid global variables.\\n(function() {\\n    var warning_div = document.getElementById(\\\"webio-warning-647751808478665560\\\");\\n    var hide = function () {\\n        var script = document.getElementById(\\\"webio-setup-144237336994171638\\\");\\n        var parent = script && script.parentElement;\\n        var grandparent = parent && parent.parentElement;\\n        if (grandparent) {\\n            grandparent.style.display = \\\"none\\\";\\n        }\\n        warning_div.style.display = \\\"none\\\";\\n    };\\n    if (typeof Jupyter !== \\\"undefined\\\") {\\n        console.log(\\\"WebIO detected Jupyter notebook environment.\\\");\\n        // Jupyter notebook.\\n        var extensions = (\\n            Jupyter\\n            && Jupyter.notebook.config.data\\n            && Jupyter.notebook.config.data.load_extensions\\n        );\\n        if (extensions && extensions[\\\"webio-jupyter-notebook\\\"]) {\\n            // Extension already loaded.\\n            console.log(\\\"Jupyter WebIO nbextension detected; not loading ad-hoc.\\\");\\n            hide();\\n            return;\\n        }\\n    } else if (window.location.pathname.includes(\\\"/lab\\\")) {\\n        // Guessing JupyterLa\\n        console.log(\\\"Jupyter Lab detected; make sure the @webio/jupyter-lab-provider labextension is installed.\\\");\\n        hide();\\n        return;\\n    }\\n})();\\n\\n</script>\\n<p\\n    id=\\\"webio-warning-647751808478665560\\\"\\n    class=\\\"output_text output_stderr\\\"\\n    style=\\\"padding: 1em; font-weight: bold;\\\"\\n>\\n    Unable to load WebIO. Please make sure WebIO works for your Jupyter client.\\n    For troubleshooting, please see <a href=\\\"https://juliagizmos.github.io/WebIO.jl/latest/providers/ijulia/\\\">\\n    the WebIO/IJulia documentation</a>.\\n    <!-- TODO: link to installation docs. -->\\n</p>\\n\")"
      ]
     },
     "metadata": {},
     "output_type": "display_data"
    },
    {
     "name": "stdout",
     "output_type": "stream",
     "text": [
      "\n",
      "importing packages...\n"
     ]
    }
   ],
   "source": [
    "script_start_time = time()\n",
    "println(\"\\nimporting packages...\")\n",
    "\n",
    "using Pkg\n",
    "using Statistics\n",
    "using LinearAlgebra\n",
    "using Eirene\n",
    "using StatsBase\n",
    "using JLD\n",
    "using Plots\n",
    "using ColorSchemes"
   ]
  },
  {
   "cell_type": "code",
   "execution_count": 2,
   "metadata": {},
   "outputs": [
    {
     "name": "stdout",
     "output_type": "stream",
     "text": [
      "packages imported\n",
      "importing functions...\n",
      "packages and functions imported\n",
      "\u001b[33mElapsed time = 22.64336085319519 seconds \u001b[39m\n",
      "\u001b[33m \u001b[39m\n",
      "Located the following graph files:\n",
      "DP_50_70_3_082520_backward_bettis.jld\n",
      "IID_50_70_082520_backward_bettis.jld\n",
      "RG_50_70_3_082520_backward_bettis.jld\n",
      "RL_50_70_082520_backward_bettis.jld\n",
      "assoc_700_100_100_20_20_09_05_082520_backward_bettis.jld\n",
      "coreperiph_700_100_100_20_20_09_05_082520_backward_bettis.jld\n",
      "cosineGeometric_50_70_3_082520_backward_bettis.jld\n",
      "disassort_700_100_100_20_20_09_05_082520_backward_bettis.jld\n",
      "discreteUniformConf_50_70_0_1000_082520_backward_bettis.jld\n",
      "geometricConf_500_700_001_1000_082520_backward_bettis.jld\n",
      "Size bettisAllAvg is (2415, 3, 10)\n"
     ]
    }
   ],
   "source": [
    "### Plotting bettis\n",
    "\n",
    "\n",
    "println(\"packages imported\")\n",
    "\n",
    "println(\"importing functions...\")\n",
    "\n",
    "include(\"helper_functions.jl\")\n",
    "\n",
    "println(\"packages and functions imported\")\n",
    "printstyled(\"Elapsed time = $(time() - script_start_time) seconds \\n \\n\", color = :yellow)\n",
    "\n",
    "\n",
    "\n",
    "### Set parameters\n",
    "\n",
    "# Parameters for all graphs\n",
    "const NNODES = 70\n",
    "const MAXDIM = 3    # Maximum persistent homology dimension\n",
    "const NREPS = 50\n",
    "const NAMEID = \"backward\"\n",
    "const NAMETAG = \"backward\"\n",
    "\n",
    "\n",
    "### Locate data\n",
    "read_dir = \"../processed_data/results/$(NNODES)nodes\"\n",
    "betti_files = filter(x->occursin(\"$(NAMEID)_bettis.jld\",x), readdir(read_dir))\n",
    "println(\"Located the following graph files:\")\n",
    "for betti_file in betti_files\n",
    "    println(betti_file)\n",
    "end\n",
    "model_names = [split(betti_file,\"_\")[1] for betti_file in betti_files]\n",
    "\n",
    "\n",
    "### Create one large plot with all of the betti curves\n",
    "nModels = length(betti_files)\n",
    "nEdges = binomial(NNODES, 2)\n",
    "bettisAll = zeros(NREPS, nEdges, MAXDIM, nModels)\n",
    "for (i,betti_file) in enumerate(betti_files)\n",
    "\n",
    "    # Read in Betti curves\n",
    "    betti_dict = load(\"$(read_dir)/$(betti_file)\")\n",
    "    bettisAll[:,:,:, i] = betti_dict[\"bettisArray\"]\n",
    "\n",
    "end\n",
    "\n",
    "bettisAllAvg = dropdims(mean(bettisAll, dims=1), dims=1)\n",
    "println(\"Size bettisAllAvg is $(size(bettisAllAvg))\")\n",
    "\n",
    "# Finally plot\n",
    "p1a = plot(bettisAllAvg[:,1,:], layout = 12, size = (1000,800), title = [\"$(model_names[i])\" for j=1:1, i=1:nModels])\n",
    "for d=2:MAXDIM\n",
    "    plot!(bettisAllAvg[:,d,:],legend = nothing, xlabel = \"Edges added\", ylabel=\"Beta_k\")\n",
    "    \n",
    "end\n",
    "\n",
    "\n",
    "savefig(\"../figures/all_bettis_$(NAMETAG).pdf\")\n",
    "\n",
    "\n",
    "\n"
   ]
  },
  {
   "cell_type": "code",
   "execution_count": null,
   "metadata": {},
   "outputs": [],
   "source": []
  }
 ],
 "metadata": {
  "kernelspec": {
   "display_name": "Julia 1.2.0",
   "language": "julia",
   "name": "julia-1.2"
  },
  "language_info": {
   "file_extension": ".jl",
   "mimetype": "application/julia",
   "name": "julia",
   "version": "1.2.0"
  }
 },
 "nbformat": 4,
 "nbformat_minor": 2
}
