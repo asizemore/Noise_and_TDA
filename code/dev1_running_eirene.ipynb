{
 "cells": [
  {
   "cell_type": "markdown",
   "metadata": {},
   "source": [
    "# Code for generating and running PH of noisy networks - dev"
   ]
  },
  {
   "cell_type": "code",
   "execution_count": 3,
   "metadata": {},
   "outputs": [
    {
     "data": {
      "text/plain": [
       "make_dev_Geometric_configuration_model (generic function with 1 method)"
      ]
     },
     "execution_count": 3,
     "metadata": {},
     "output_type": "execute_result"
    }
   ],
   "source": [
    "# Load packages\n",
    "\n",
    "using Pkg\n",
    "using Statistics\n",
    "using Plots\n",
    "using LinearAlgebra\n",
    "using Distances\n",
    "using Eirene\n",
    "using StatsBase\n",
    "using Random\n",
    "using Distributions\n",
    "using JLD\n",
    "using MAT\n",
    "\n",
    "include(\"helpers.jl\")\n",
    "include(\"graph_models.jl\")\n",
    "\n",
    "\n"
   ]
  },
  {
   "cell_type": "markdown",
   "metadata": {},
   "source": [
    "## Choose weighed network and generate replicates\n",
    "\n",
    "--------------------------------\n",
    "## CHANGE PARAMETERS HERE\n",
    "---------------------------------"
   ]
  },
  {
   "cell_type": "code",
   "execution_count": 4,
   "metadata": {},
   "outputs": [
    {
     "data": {
      "text/plain": [
       "\"RG\""
      ]
     },
     "execution_count": 4,
     "metadata": {},
     "output_type": "execute_result"
    }
   ],
   "source": [
    "## Pick from one of the graph models and generate out to THRESH edge density\n",
    "\n",
    "const NREPS = 50\n",
    "const RHO = 0.5      # Threshold at edge density = rho\n",
    "const NNODES = 70\n",
    "const SAVEFIGS = 1  # Boolean to save figure pdfs\n",
    "const SAVEDATA = 1    # Boolean to save data  \n",
    "const MAXDIM = 5\n",
    "\n",
    "# for geometricConf\n",
    "const P = 0.01\n",
    "const SCALE_FACTOR = 100\n",
    "\n",
    "# for RG\n",
    "const DIMES = 3\n",
    "\n",
    "# for discreteUniformConf\n",
    "const A = 0\n",
    "const B = 1000\n",
    "\n",
    "# for cosineFeometric\n",
    "const DIMS = 3\n",
    "\n",
    "\n",
    "# Graph model name one of \"geometricConf\", \"IID\" , \"RG\", \"discreteUniformConf\", \"cosineGeometric\", \"RL\", \"SWBM\"\n",
    "const GRAPH_MODEL_NAME = \"RG\""
   ]
  },
  {
   "cell_type": "markdown",
   "metadata": {},
   "source": [
    "## Create weighted networks"
   ]
  },
  {
   "cell_type": "code",
   "execution_count": 5,
   "metadata": {},
   "outputs": [
    {
     "name": "stdout",
     "output_type": "stream",
     "text": [
      "Naming files RG_500_05_700_30\n"
     ]
    }
   ],
   "source": [
    "\n",
    "# Construct weighted network with and without noise, with and without edge ordering\n",
    "weighted_graph_array, weighted_graph_array_iidNoise, weighted_graph_array_iidNoise_ord, betti_file_name, parameters = construct_graphs(NNODES,NREPS,RHO,P,SCALE_FACTOR, DIMS, A, B, GRAPH_MODEL_NAME)\n",
    "    \n",
    "\n",
    "\n",
    "# Plot an example weighted graph and after we add noise\n",
    "\n",
    "gr()\n",
    "\n",
    "test_mat = 4\n",
    "p0a = heatmap(weighted_graph_array[:,:,test_mat], aspect_ratio = :equal)\n",
    "p0b = heatmap(weighted_graph_array_iidNoise[:,:,test_mat], aspect_ratio = :equal)\n",
    "p0c = heatmap(weighted_graph_array_iidNoise_ord[:,:,test_mat], aspect_ratio = :equal)\n",
    "\n",
    "plot(p0a,p0b,p0c,layout = (1,3))\n",
    "\n",
    "\n",
    "if SAVEFIGS == 1\n",
    "    savefig(\"../Figures/$(betti_file_name).pdf\")\n",
    "end\n",
    "\n",
    "if SAVEDATA == 1\n",
    "    save(\"../processed_data/$(betti_file_name)_graphs.jld\",\n",
    "     \"weighted_graph_array\", weighted_graph_array,\n",
    "     \"weighted_graph_array_iidNoise\", weighted_graph_array_iidNoise,\n",
    "     \"parameters\", parameters)\n",
    "end\n",
    "\n"
   ]
  },
  {
   "cell_type": "markdown",
   "metadata": {},
   "source": [
    "## Running Eirene"
   ]
  },
  {
   "cell_type": "code",
   "execution_count": 21,
   "metadata": {},
   "outputs": [
    {
     "name": "stdout",
     "output_type": "stream",
     "text": [
      "finished running eirene\n",
      "finished running eirene\n",
      "finished running eirene\n",
      "finished running eirene\n",
      "finished running eirene\n",
      "\u001b[36mFinished computing persistent homology, elapsed time 6.946272134780884 seconds\u001b[39m\n",
      "\u001b[34mDone :)\u001b[39m"
     ]
    }
   ],
   "source": [
    "# Loop through replicates and run eirene\n",
    "\n",
    "nEdges = binomial(NNODES,2)\n",
    "barcode_array = Array{Array{Float64}}(undef,NREPS,3)\n",
    "betticurve_array = zeros(nEdges,MAXDIM,NREPS)\n",
    "beginTime = time()\n",
    "\n",
    "\n",
    "\n",
    "for rep = 1:NREPS\n",
    "    \n",
    "    G_i = weighted_graph_array_iidNoise_ord[:,:,rep]\n",
    "    \n",
    "    C = Eirene.eirene(G_i,model = \"vr\", maxdim = MAXDIM, record = \"none\")\n",
    "    println(\"finished running eirene\")\n",
    "    for k in collect(1:MAXDIM)\n",
    "        \n",
    "        barcode_array[rep,k] = barcode(C,dim=k)\n",
    "        betti_curve_i = betticurveFromBarcode(barcode_array[rep,k],nEdges)\n",
    "        betticurve_array[:,k,rep] = betti_curve_i[1,:]\n",
    "        \n",
    "    end \n",
    "   \n",
    "    if rep%10 == 0\n",
    "        printstyled(\"\\nRun $(rep) finished.\\n\",color = :cyan)\n",
    "    end\n",
    "\n",
    "\n",
    "end\n",
    "\n",
    "\n",
    "\n",
    "endTime = time() - beginTime\n",
    "printstyled(\"Finished computing persistent homology, elapsed time $(endTime) seconds\", color = :cyan)\n",
    "\n",
    "if SAVEDATA == 1\n",
    "    save(\"../processed_data/$(betti_file_name)_eirene_output.jld\",\n",
    "        \"barcode_array\", barcode_array,\n",
    "        \"betticurve_array\", betticurve_array)\n",
    "end\n",
    "\n",
    "\n",
    "printstyled(\"\\nDone :)\", color = :blue)\n"
   ]
  },
  {
   "cell_type": "code",
   "execution_count": 23,
   "metadata": {},
   "outputs": [],
   "source": [
    "## Plot average betti curves\n",
    "\n",
    "betticurve_avg = dropdims(mean(betticurve_array,dims=3), dims = 3)\n",
    "betticurve_std = dropdims(std(betticurve_array,dims=3), dims = 3)\n",
    "\n",
    "x_axis = collect(1:nEdges)./nEdges\n",
    "\n",
    "p1a = plot(x_axis,betticurve_avg[:,1],linewidth = 1.5, ribbon = betticurve_std[:,1], label = \"Betti_1\")\n",
    "for d = 2:MAXDIM\n",
    "    plot!(x_axis,betticurve_avg[:,d],linewidth = 1.5, ribbon = betticurve_std[:,d], label = \"Betti_$(d)\")\n",
    "end\n",
    "\n",
    "title!(\"$(betti_file_name)\")\n",
    "ylabel!(\"Betti_k\")\n",
    "xlabel!(\"Edge Density\")\n",
    "\n",
    "plot(p1a,layout = (1,1))\n",
    "\n",
    "if SAVEFIGS == 1\n",
    "    savefig(\"../Figures/$(betti_file_name).pdf\")\n",
    "end\n"
   ]
  },
  {
   "cell_type": "code",
   "execution_count": null,
   "metadata": {},
   "outputs": [],
   "source": []
  },
  {
   "cell_type": "code",
   "execution_count": null,
   "metadata": {},
   "outputs": [],
   "source": []
  },
  {
   "cell_type": "code",
   "execution_count": 7,
   "metadata": {
    "scrolled": true
   },
   "outputs": [
    {
     "name": "stderr",
     "output_type": "stream",
     "text": [
      "┌ Info: Precompiling LightGraphs [093fc24a-ae57-5d10-9952-331d41423f4d]\n",
      "└ @ Base loading.jl:1242\n",
      "┌ Info: Precompiling PyCall [438e738f-606a-5dbb-bf0a-cddfbfd45ab0]\n",
      "└ @ Base loading.jl:1242\n"
     ]
    },
    {
     "data": {
      "text/plain": [
       "PyObject <module 'networkx' from '/opt/conda/lib/python3.7/site-packages/networkx/__init__.py'>"
      ]
     },
     "execution_count": 7,
     "metadata": {},
     "output_type": "execute_result"
    }
   ],
   "source": [
    "using LightGraphs\n",
    "using PyCall\n",
    "\n",
    "nx = pyimport(\"networkx\")"
   ]
  },
  {
   "cell_type": "code",
   "execution_count": 8,
   "metadata": {},
   "outputs": [
    {
     "data": {
      "text/plain": [
       "\"test_2_3_234_5\""
      ]
     },
     "execution_count": 8,
     "metadata": {},
     "output_type": "execute_result"
    }
   ],
   "source": [
    "gmn = \"test\"\n",
    "a = 2\n",
    "b = 3\n",
    "c = [2,3,4]\n",
    "d = \"$(gmn)_$(a)_$(b)_$(c...)\"\n",
    "e = 5\n",
    "f = \"$(d)_$(e)\"\n"
   ]
  },
  {
   "cell_type": "code",
   "execution_count": 9,
   "metadata": {},
   "outputs": [
    {
     "ename": "LoadError",
     "evalue": "UndefVarError: @Name not defined",
     "output_type": "error",
     "traceback": [
      "UndefVarError: @Name not defined",
      ""
     ]
    }
   ],
   "source": [
    "macro get_var_name(arg)\n",
    "   string(arg)\n",
    "end\n",
    "\n",
    "variablex  = 6\n",
    "\n",
    "a = @Name(variablex)"
   ]
  },
  {
   "cell_type": "code",
   "execution_count": null,
   "metadata": {},
   "outputs": [],
   "source": []
  },
  {
   "cell_type": "code",
   "execution_count": 10,
   "metadata": {},
   "outputs": [
    {
     "data": {
      "text/plain": [
       "\"432\""
      ]
     },
     "execution_count": 10,
     "metadata": {},
     "output_type": "execute_result"
    }
   ],
   "source": [
    "replace(\"4.32\", \".\" => \"\")"
   ]
  },
  {
   "cell_type": "code",
   "execution_count": null,
   "metadata": {},
   "outputs": [],
   "source": []
  }
 ],
 "metadata": {
  "kernelspec": {
   "display_name": "Julia 1.2.0",
   "language": "julia",
   "name": "julia-1.2"
  },
  "language_info": {
   "file_extension": ".jl",
   "mimetype": "application/julia",
   "name": "julia",
   "version": "1.2.0"
  }
 },
 "nbformat": 4,
 "nbformat_minor": 4
}
