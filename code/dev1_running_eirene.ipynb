{
 "cells": [
  {
   "cell_type": "markdown",
   "metadata": {},
   "source": [
    "# Code for generating and running PH of noisy networks - dev"
   ]
  },
  {
   "cell_type": "code",
   "execution_count": 1,
   "metadata": {},
   "outputs": [],
   "source": [
    "# Need to load in all the network generation functions here?\n",
    "\n"
   ]
  },
  {
   "cell_type": "code",
   "execution_count": 1,
   "metadata": {},
   "outputs": [
    {
     "name": "stderr",
     "output_type": "stream",
     "text": [
      "┌ Info: Precompiling Plots [91a5bcdd-55d7-5caf-9e0b-520d859cae80]\n",
      "└ @ Base loading.jl:1242\n",
      "┌ Info: Precompiling Distances [b4f34e82-e78d-54a5-968a-f98e89d6e8f7]\n",
      "└ @ Base loading.jl:1242\n",
      "┌ Info: Precompiling Eirene [9c0f25c4-2ca1-5870-89f6-52640788da1d]\n",
      "└ @ Base loading.jl:1242\n",
      "WARNING: using HTTP.stack in module Mux conflicts with an existing identifier.\n"
     ]
    },
    {
     "data": {
      "text/html": [
       "<script>\n",
       "// Immediately-invoked-function-expression to avoid global variables.\n",
       "(function() {\n",
       "    var warning_div = document.getElementById(\"webio-warning-7964961480370847541\");\n",
       "    var hide = function () {\n",
       "        var script = document.getElementById(\"webio-setup-10736084492009737928\");\n",
       "        var parent = script && script.parentElement;\n",
       "        var grandparent = parent && parent.parentElement;\n",
       "        if (grandparent) {\n",
       "            grandparent.style.display = \"none\";\n",
       "        }\n",
       "        warning_div.style.display = \"none\";\n",
       "    };\n",
       "    if (typeof Jupyter !== \"undefined\") {\n",
       "        console.log(\"WebIO detected Jupyter notebook environment.\");\n",
       "        // Jupyter notebook.\n",
       "        var extensions = (\n",
       "            Jupyter\n",
       "            && Jupyter.notebook.config.data\n",
       "            && Jupyter.notebook.config.data.load_extensions\n",
       "        );\n",
       "        if (extensions && extensions[\"webio-jupyter-notebook\"]) {\n",
       "            // Extension already loaded.\n",
       "            console.log(\"Jupyter WebIO nbextension detected; not loading ad-hoc.\");\n",
       "            hide();\n",
       "            return;\n",
       "        }\n",
       "    } else if (window.location.pathname.includes(\"/lab\")) {\n",
       "        // Guessing JupyterLa\n",
       "        console.log(\"Jupyter Lab detected; make sure the @webio/jupyter-lab-provider labextension is installed.\");\n",
       "        hide();\n",
       "        return;\n",
       "    }\n",
       "})();\n",
       "\n",
       "</script>\n",
       "<p\n",
       "    id=\"webio-warning-7964961480370847541\"\n",
       "    class=\"output_text output_stderr\"\n",
       "    style=\"padding: 1em; font-weight: bold;\"\n",
       ">\n",
       "    Unable to load WebIO. Please make sure WebIO works for your Jupyter client.\n",
       "    For troubleshooting, please see <a href=\"https://juliagizmos.github.io/WebIO.jl/latest/providers/ijulia/\">\n",
       "    the WebIO/IJulia documentation</a>.\n",
       "    <!-- TODO: link to installation docs. -->\n",
       "</p>\n"
      ],
      "text/plain": [
       "HTML{String}(\"<script>\\n// Immediately-invoked-function-expression to avoid global variables.\\n(function() {\\n    var warning_div = document.getElementById(\\\"webio-warning-7964961480370847541\\\");\\n    var hide = function () {\\n        var script = document.getElementById(\\\"webio-setup-10736084492009737928\\\");\\n        var parent = script && script.parentElement;\\n        var grandparent = parent && parent.parentElement;\\n        if (grandparent) {\\n            grandparent.style.display = \\\"none\\\";\\n        }\\n        warning_div.style.display = \\\"none\\\";\\n    };\\n    if (typeof Jupyter !== \\\"undefined\\\") {\\n        console.log(\\\"WebIO detected Jupyter notebook environment.\\\");\\n        // Jupyter notebook.\\n        var extensions = (\\n            Jupyter\\n            && Jupyter.notebook.config.data\\n            && Jupyter.notebook.config.data.load_extensions\\n        );\\n        if (extensions && extensions[\\\"webio-jupyter-notebook\\\"]) {\\n            // Extension already loaded.\\n            console.log(\\\"Jupyter WebIO nbextension detected; not loading ad-hoc.\\\");\\n            hide();\\n            return;\\n        }\\n    } else if (window.location.pathname.includes(\\\"/lab\\\")) {\\n        // Guessing JupyterLa\\n        console.log(\\\"Jupyter Lab detected; make sure the @webio/jupyter-lab-provider labextension is installed.\\\");\\n        hide();\\n        return;\\n    }\\n})();\\n\\n</script>\\n<p\\n    id=\\\"webio-warning-7964961480370847541\\\"\\n    class=\\\"output_text output_stderr\\\"\\n    style=\\\"padding: 1em; font-weight: bold;\\\"\\n>\\n    Unable to load WebIO. Please make sure WebIO works for your Jupyter client.\\n    For troubleshooting, please see <a href=\\\"https://juliagizmos.github.io/WebIO.jl/latest/providers/ijulia/\\\">\\n    the WebIO/IJulia documentation</a>.\\n    <!-- TODO: link to installation docs. -->\\n</p>\\n\")"
      ]
     },
     "metadata": {},
     "output_type": "display_data"
    },
    {
     "name": "stderr",
     "output_type": "stream",
     "text": [
      "┌ Info: Precompiling Distributions [31c24e10-a181-5473-b8eb-7969acd0382f]\n",
      "└ @ Base loading.jl:1242\n",
      "┌ Info: Precompiling MAT [23992714-dd62-5051-b70f-ba57cb901cac]\n",
      "└ @ Base loading.jl:1242\n"
     ]
    },
    {
     "data": {
      "text/plain": [
       "make_dev_Geometric_configuration_model (generic function with 1 method)"
      ]
     },
     "execution_count": 1,
     "metadata": {},
     "output_type": "execute_result"
    }
   ],
   "source": [
    "# Load packages\n",
    "\n",
    "using Pkg\n",
    "using Statistics\n",
    "using Plots\n",
    "using LinearAlgebra\n",
    "using Distances\n",
    "using Eirene\n",
    "using StatsBase\n",
    "using Random\n",
    "using Distributions\n",
    "using JLD\n",
    "using MAT\n",
    "\n",
    "include(\"helpers.jl\")\n",
    "include(\"graph_models.jl\")\n",
    "\n",
    "\n"
   ]
  },
  {
   "cell_type": "markdown",
   "metadata": {},
   "source": [
    "## Choose weighed network and generate replicates\n",
    "\n",
    "--------------------------------\n",
    "## CHANGE PARAMETERS HERE\n",
    "---------------------------------"
   ]
  },
  {
   "cell_type": "code",
   "execution_count": 2,
   "metadata": {},
   "outputs": [
    {
     "data": {
      "text/plain": [
       "\"RG\""
      ]
     },
     "execution_count": 2,
     "metadata": {},
     "output_type": "execute_result"
    }
   ],
   "source": [
    "## Pick from one of the graph models and generate out to THRESH edge density\n",
    "\n",
    "const NREPS = 50\n",
    "const RHO = 0.5      # Threshold at edge density = rho\n",
    "const NNODES = 70\n",
    "const SAVEFIGS = 1  # Boolean to save figure pdfs\n",
    "const SAVEDATA = 1    # Boolean to save data  \n",
    "const MAXDIM = 5\n",
    "\n",
    "# for geometricConf\n",
    "const P = 0.01\n",
    "const SCALE_FACTOR = 100\n",
    "\n",
    "# for RG\n",
    "const DIMS = 3\n",
    "\n",
    "# for discreteUniformConf\n",
    "const A = 0\n",
    "const B = 1000\n",
    "\n",
    "# for cosineGeometric\n",
    "# const DIMS = 3\n",
    "\n",
    "\n",
    "# Graph model name one of \"geometricConf\", \"IID\" , \"RG\", \"discreteUniformConf\", \"cosineGeometric\", \"RL\", \"SWBM\"\n",
    "const GRAPH_MODEL_NAME = \"RG\""
   ]
  },
  {
   "cell_type": "markdown",
   "metadata": {},
   "source": [
    "## Create weighted networks"
   ]
  },
  {
   "cell_type": "code",
   "execution_count": 4,
   "metadata": {},
   "outputs": [
    {
     "name": "stdout",
     "output_type": "stream",
     "text": [
      "Naming files RG_500_05_700_30\n"
     ]
    },
    {
     "ename": "UndefVarError",
     "evalue": "UndefVarError: parameters not defined",
     "output_type": "error",
     "traceback": [
      "UndefVarError: parameters not defined",
      "",
      "Stacktrace:",
      " [1] top-level scope at In[4]:23"
     ]
    }
   ],
   "source": [
    "\n",
    "# Construct weighted network with and without noise, with and without edge ordering\n",
    "weighted_graph_array, weighted_graph_array_iidNoise, weighted_graph_array_iidNoise_ord, betti_file_name = construct_graphs(NNODES,NREPS,RHO,P,SCALE_FACTOR, DIMS, A, B, GRAPH_MODEL_NAME)\n",
    "    \n",
    "\n",
    "# Plot an example weighted graph and after we add noise\n",
    "\n",
    "gr()\n",
    "\n",
    "test_mat = 4\n",
    "p0a = heatmap(weighted_graph_array[:,:,test_mat], aspect_ratio = :equal)\n",
    "p0b = heatmap(weighted_graph_array_iidNoise[:,:,test_mat], aspect_ratio = :equal)\n",
    "p0c = heatmap(weighted_graph_array_iidNoise_ord[:,:,test_mat], aspect_ratio = :equal)\n",
    "\n",
    "plot(p0a,p0b,p0c,layout = (1,3))\n",
    "\n",
    "\n",
    "if SAVEFIGS == 1\n",
    "    savefig(\"../figures/$(betti_file_name).pdf\")\n",
    "end\n",
    "\n",
    "if SAVEDATA == 1\n",
    "    save(\"../processed_data/$(betti_file_name)_graphs.jld\",\n",
    "     \"weighted_graph_array\", weighted_graph_array,\n",
    "     \"weighted_graph_array_iidNoise\", weighted_graph_array_iidNoise,\n",
    "     \"parameters\", parameters)\n",
    "end\n",
    "\n"
   ]
  },
  {
   "cell_type": "markdown",
   "metadata": {},
   "source": [
    "## Running Eirene"
   ]
  },
  {
   "cell_type": "code",
   "execution_count": 21,
   "metadata": {},
   "outputs": [
    {
     "name": "stdout",
     "output_type": "stream",
     "text": [
      "finished running eirene\n",
      "finished running eirene\n",
      "finished running eirene\n",
      "finished running eirene\n",
      "finished running eirene\n",
      "\u001b[36mFinished computing persistent homology, elapsed time 6.946272134780884 seconds\u001b[39m\n",
      "\u001b[34mDone :)\u001b[39m"
     ]
    }
   ],
   "source": [
    "# Loop through replicates and run eirene\n",
    "\n",
    "nEdges = binomial(NNODES,2)\n",
    "barcode_array = Array{Array{Float64}}(undef,NREPS,3)\n",
    "betticurve_array = zeros(nEdges,MAXDIM,NREPS)\n",
    "beginTime = time()\n",
    "\n",
    "\n",
    "\n",
    "for rep = 1:NREPS\n",
    "    \n",
    "    G_i = weighted_graph_array_iidNoise_ord[:,:,rep]\n",
    "    \n",
    "    C = Eirene.eirene(G_i,model = \"vr\", maxdim = MAXDIM, record = \"none\")\n",
    "    println(\"finished running eirene\")\n",
    "    for k in collect(1:MAXDIM)\n",
    "        \n",
    "        barcode_array[rep,k] = barcode(C,dim=k)\n",
    "        betti_curve_i = betticurveFromBarcode(barcode_array[rep,k],nEdges)\n",
    "        betticurve_array[:,k,rep] = betti_curve_i[1,:]\n",
    "        \n",
    "    end \n",
    "   \n",
    "    if rep%10 == 0\n",
    "        printstyled(\"\\nRun $(rep) finished.\\n\",color = :cyan)\n",
    "    end\n",
    "\n",
    "\n",
    "end\n",
    "\n",
    "\n",
    "\n",
    "endTime = time() - beginTime\n",
    "printstyled(\"Finished computing persistent homology, elapsed time $(endTime) seconds\", color = :cyan)\n",
    "\n",
    "if SAVEDATA == 1\n",
    "    save(\"../processed_data/$(betti_file_name)_eirene_output.jld\",\n",
    "        \"barcode_array\", barcode_array,\n",
    "        \"betticurve_array\", betticurve_array)\n",
    "end\n",
    "\n",
    "\n",
    "printstyled(\"\\nDone :)\", color = :blue)\n"
   ]
  },
  {
   "cell_type": "code",
   "execution_count": 23,
   "metadata": {},
   "outputs": [],
   "source": [
    "## Plot average betti curves\n",
    "\n",
    "betticurve_avg = dropdims(mean(betticurve_array,dims=3), dims = 3)\n",
    "betticurve_std = dropdims(std(betticurve_array,dims=3), dims = 3)\n",
    "\n",
    "x_axis = collect(1:nEdges) ./nEdges\n",
    "\n",
    "p1a = plot(x_axis,betticurve_avg[:,1],linewidth = 1.5, ribbon = betticurve_std[:,1], label = \"Betti_1\")\n",
    "for d = 2:MAXDIM\n",
    "    plot!(x_axis,betticurve_avg[:,d],linewidth = 1.5, ribbon = betticurve_std[:,d], label = \"Betti_$(d)\")\n",
    "end\n",
    "\n",
    "title!(\"$(betti_file_name)\")\n",
    "ylabel!(\"Betti_k\")\n",
    "xlabel!(\"Edge Density\")\n",
    "\n",
    "plot(p1a,layout = (1,1))\n",
    "\n",
    "if SAVEFIGS == 1\n",
    "    savefig(\"../Figures/$(betti_file_name).pdf\")\n",
    "end\n"
   ]
  },
  {
   "cell_type": "code",
   "execution_count": null,
   "metadata": {},
   "outputs": [],
   "source": []
  },
  {
   "cell_type": "code",
   "execution_count": null,
   "metadata": {},
   "outputs": [],
   "source": []
  },
  {
   "cell_type": "code",
   "execution_count": 7,
   "metadata": {
    "scrolled": true
   },
   "outputs": [
    {
     "name": "stderr",
     "output_type": "stream",
     "text": [
      "┌ Info: Precompiling LightGraphs [093fc24a-ae57-5d10-9952-331d41423f4d]\n",
      "└ @ Base loading.jl:1242\n",
      "┌ Info: Precompiling PyCall [438e738f-606a-5dbb-bf0a-cddfbfd45ab0]\n",
      "└ @ Base loading.jl:1242\n"
     ]
    },
    {
     "data": {
      "text/plain": [
       "PyObject <module 'networkx' from '/opt/conda/lib/python3.7/site-packages/networkx/__init__.py'>"
      ]
     },
     "execution_count": 7,
     "metadata": {},
     "output_type": "execute_result"
    }
   ],
   "source": [
    "using LightGraphs\n",
    "using PyCall\n",
    "\n",
    "nx = pyimport(\"networkx\")"
   ]
  },
  {
   "cell_type": "code",
   "execution_count": 8,
   "metadata": {},
   "outputs": [
    {
     "data": {
      "text/plain": [
       "\"test_2_3_234_5\""
      ]
     },
     "execution_count": 8,
     "metadata": {},
     "output_type": "execute_result"
    }
   ],
   "source": [
    "gmn = \"test\"\n",
    "a = 2\n",
    "b = 3\n",
    "c = [2,3,4]\n",
    "d = \"$(gmn)_$(a)_$(b)_$(c...)\"\n",
    "e = 5\n",
    "f = \"$(d)_$(e)\"\n"
   ]
  },
  {
   "cell_type": "code",
   "execution_count": 9,
   "metadata": {},
   "outputs": [
    {
     "ename": "LoadError",
     "evalue": "UndefVarError: @Name not defined",
     "output_type": "error",
     "traceback": [
      "UndefVarError: @Name not defined",
      ""
     ]
    }
   ],
   "source": [
    "macro get_var_name(arg)\n",
    "   string(arg)\n",
    "end\n",
    "\n",
    "variablex  = 6\n",
    "\n",
    "a = @Name(variablex)"
   ]
  },
  {
   "cell_type": "code",
   "execution_count": null,
   "metadata": {},
   "outputs": [],
   "source": []
  },
  {
   "cell_type": "code",
   "execution_count": 10,
   "metadata": {},
   "outputs": [
    {
     "data": {
      "text/plain": [
       "\"432\""
      ]
     },
     "execution_count": 10,
     "metadata": {},
     "output_type": "execute_result"
    }
   ],
   "source": [
    "replace(\"4.32\", \".\" => \"\")"
   ]
  },
  {
   "cell_type": "code",
   "execution_count": null,
   "metadata": {},
   "outputs": [],
   "source": []
  }
 ],
 "metadata": {
  "kernelspec": {
   "display_name": "Julia 1.2.0",
   "language": "julia",
   "name": "julia-1.2"
  },
  "language_info": {
   "file_extension": ".jl",
   "mimetype": "application/julia",
   "name": "julia",
   "version": "1.2.0"
  }
 },
 "nbformat": 4,
 "nbformat_minor": 4
}
