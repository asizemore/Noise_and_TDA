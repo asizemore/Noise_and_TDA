{
 "cells": [
  {
   "cell_type": "code",
   "execution_count": 5,
   "metadata": {},
   "outputs": [
    {
     "name": "stdout",
     "output_type": "stream",
     "text": [
      "\u001b[32m\u001b[1m Resolving\u001b[22m\u001b[39m package versions...\n",
      "\u001b[32m\u001b[1m  Updating\u001b[22m\u001b[39m `/opt/julia/environments/v1.2/Project.toml`\n",
      "\u001b[90m [no changes]\u001b[39m\n",
      "\u001b[32m\u001b[1m  Updating\u001b[22m\u001b[39m `/opt/julia/environments/v1.2/Manifest.toml`\n",
      "\u001b[90m [no changes]\u001b[39m\n",
      "\u001b[32m\u001b[1m Resolving\u001b[22m\u001b[39m package versions...\n",
      "\u001b[32m\u001b[1m  Updating\u001b[22m\u001b[39m `/opt/julia/environments/v1.2/Project.toml`\n",
      "\u001b[90m [no changes]\u001b[39m\n",
      "\u001b[32m\u001b[1m  Updating\u001b[22m\u001b[39m `/opt/julia/environments/v1.2/Manifest.toml`\n",
      "\u001b[90m [no changes]\u001b[39m\n"
     ]
    },
    {
     "data": {
      "text/plain": [
       "triu_elements (generic function with 1 method)"
      ]
     },
     "execution_count": 5,
     "metadata": {},
     "output_type": "execute_result"
    }
   ],
   "source": [
    "## Import packages\n",
    "\n",
    "using Statistics\n",
    "using Pkg\n",
    "using LinearAlgebra\n",
    "using StatsBase\n",
    "using Random\n",
    "using JLD\n",
    "using Plots\n",
    "using Distributions\n",
    "using JSON\n",
    "using MAT\n",
    "Pkg.add(\"ColorSchemes\")\n",
    "using ColorSchemes\n",
    "Pkg.add(\"PyCall\")\n",
    "using PyCall\n",
    "nx = pyimport(\"networkx\")\n",
    "np = pyimport(\"numpy\")\n",
    "\n",
    "include(\"helper_functions.jl\")"
   ]
  },
  {
   "cell_type": "code",
   "execution_count": 38,
   "metadata": {},
   "outputs": [],
   "source": [
    "dsi_mat_dict = matread(\"../data/HCP/dsi_matrices.mat\")\n",
    "dsi_counts = dsi_mat_dict[\"ls234_count\"]\n",
    "unique(sort([dsi_counts...]))\n",
    "nReps = size(dsi_counts)[3]\n",
    "\n",
    "noise_mat = rand(Float64, size(dsi_counts))\n",
    "dsi_noisy = dsi_counts.+noise_mat\n",
    "\n",
    "# Now all noise will be those edges with weight <1\n",
    "# Now all noise will be those edges with weight <1\n",
    "for rep in collect(1:nReps)\n",
    "    G_i = dsi_noisy[:,:,rep]\n",
    "    G_i[diagind(G_i)] .=0\n",
    "    dsi_noisy[:,:, rep] .= G_i\n",
    "end"
   ]
  },
  {
   "cell_type": "code",
   "execution_count": 40,
   "metadata": {},
   "outputs": [
    {
     "data": {
      "text/plain": [
       "Dict{String,Any} with 3 entries:\n",
       "  \"ls234_qa\"    => [0.0 0.0 … 0.0 0.0; 0.0 0.0 … 0.0 0.0; … ; 0.0 0.0 … 0.0 0.2…\n",
       "  \"ls234_count\" => [0.0 0.0 … 0.0 0.0; 0.0 0.0 … 0.0 0.0; … ; 0.0 0.0 … 0.0 424…\n",
       "  \"sbj_id\"      => Any[\"100307\"; \"100408\"; … ; \"857263\"; \"899885\"]"
      ]
     },
     "execution_count": 40,
     "metadata": {},
     "output_type": "execute_result"
    }
   ],
   "source": [
    "dsi_mat_dict\n"
   ]
  },
  {
   "cell_type": "code",
   "execution_count": 6,
   "metadata": {},
   "outputs": [
    {
     "name": "stdout",
     "output_type": "stream",
     "text": [
      "Located the following graph files:\n",
      "IID_70nodes_100reps_091720_graphs.jld\n",
      "assortative_70nodes_100reps_20_5_10_5_091720_graphs.jld\n",
      "coreperiphery_70nodes_100reps_15_5_10_5_091720_graphs.jld\n",
      "cosineGeometric_70nodes_100reps_3_091720_graphs.jld\n",
      "disassortative_70nodes_100reps_20_5_10_5_091720_graphs.jld\n",
      "discreteUniformConf_70nodes_100reps_0_1000_091720_graphs.jld\n",
      "dotProduct_70nodes_100reps_3_091720_graphs.jld\n",
      "geometricConf_70nodes_100reps_001_100_091720_graphs.jld\n",
      "probTriangle0_70nodes_100reps_0_091720_graphs.jld\n",
      "probTriangle1_70nodes_100reps_01_091720_graphs.jld\n",
      "probTriangle2_70nodes_100reps_02_091720_graphs.jld\n",
      "probTriangle3_70nodes_100reps_03_091720_graphs.jld\n",
      "probTriangle4_70nodes_100reps_04_091720_graphs.jld\n",
      "probTriangle5_70nodes_100reps_05_091720_graphs.jld\n",
      "probTriangle6_70nodes_100reps_06_091720_graphs.jld\n",
      "probTriangle7_70nodes_100reps_07_091720_graphs.jld\n",
      "probTriangle8_70nodes_100reps_08_091720_graphs.jld\n",
      "probTriangle91_70nodes_100reps_091_091720_graphs.jld\n",
      "probTriangle92_70nodes_100reps_092_091720_graphs.jld\n",
      "probTriangle93_70nodes_100reps_093_091720_graphs.jld\n",
      "probTriangle94_70nodes_100reps_094_091720_graphs.jld\n",
      "probTriangle95_70nodes_100reps_095_091720_graphs.jld\n",
      "probTriangle96_70nodes_100reps_096_091720_graphs.jld\n",
      "probTriangle97_70nodes_100reps_097_091720_graphs.jld\n",
      "probTriangle98_70nodes_100reps_098_091720_graphs.jld\n",
      "probTriangle99_70nodes_100reps_099_091720_graphs.jld\n",
      "probTriangle9_70nodes_100reps_09_091720_graphs.jld\n",
      "probTriangle_70nodes_100reps_1_091720_graphs.jld\n",
      "randomGeom_70nodes_100reps_3_091720_graphs.jld\n",
      "ringLattice_70nodes_100reps_091720_graphs.jld\n",
      "rmsd_70nodes_100reps_3_091720_graphs.jld\n",
      "sqdEuclidean_70nodes_100reps_3_091720_graphs.jld\n"
     ]
    },
    {
     "data": {
      "text/plain": [
       "32-element Array{SubString{String},1}:\n",
       " \"IID\"                \n",
       " \"assortative\"        \n",
       " \"coreperiphery\"      \n",
       " \"cosineGeometric\"    \n",
       " \"disassortative\"     \n",
       " \"discreteUniformConf\"\n",
       " \"dotProduct\"         \n",
       " \"geometricConf\"      \n",
       " \"probTriangle0\"      \n",
       " \"probTriangle1\"      \n",
       " \"probTriangle2\"      \n",
       " \"probTriangle3\"      \n",
       " \"probTriangle4\"      \n",
       " ⋮                    \n",
       " \"probTriangle94\"     \n",
       " \"probTriangle95\"     \n",
       " \"probTriangle96\"     \n",
       " \"probTriangle97\"     \n",
       " \"probTriangle98\"     \n",
       " \"probTriangle99\"     \n",
       " \"probTriangle9\"      \n",
       " \"probTriangle\"       \n",
       " \"randomGeom\"         \n",
       " \"ringLattice\"        \n",
       " \"rmsd\"               \n",
       " \"sqdEuclidean\"       "
      ]
     },
     "execution_count": 6,
     "metadata": {},
     "output_type": "execute_result"
    }
   ],
   "source": [
    "# Define parameters\n",
    "\n",
    "# Read from config file\n",
    "config_file = \"config091720.json\"\n",
    "config = read_config(\"$(homedir())/configs/$(config_file)\")\n",
    "\n",
    "const NNODES = config[\"NNODES\"]\n",
    "const MAXDIM = config[\"MAXDIM\"]\n",
    "const NREPS = config[\"NREPS\"]\n",
    "const DATE_STRING = config[\"DATE_STRING\"]\n",
    "const SAVETAIL = config[\"SAVETAIL_graphInfo\"]\n",
    "const read_dir = \"$(homedir())/$(config[\"read_dir_graphs\"])/$(NNODES)nodes\"\n",
    "const save_dir = \"$(homedir())/$(config[\"save_dir_forJason\"])/$(NNODES)nodes\"\n",
    "\n",
    "# Locate graph files\n",
    "graph_files = filter(x->occursin(DATE_STRING,x), readdir(read_dir))\n",
    "println(\"Located the following graph files:\")\n",
    "for graph_file in graph_files\n",
    "    println(graph_file)\n",
    "end\n",
    "model_names = [split(graph_file,\"_\")[1] for graph_file in graph_files]"
   ]
  },
  {
   "cell_type": "code",
   "execution_count": 10,
   "metadata": {},
   "outputs": [
    {
     "name": "stdout",
     "output_type": "stream",
     "text": [
      "(70, 70)\n",
      "9304.175139708794\n",
      "177.08688696515543\n",
      "(69, 69)\n",
      "(69, 69)\n",
      "8950.001365778486\n",
      "159.9845307837411\n",
      "(68, 68)\n",
      "(68, 68)\n",
      "8630.032304211003\n",
      "155.77720925359873\n",
      "(67, 67)\n",
      "(67, 67)\n",
      "8318.477885703804\n",
      "149.49959794799645\n",
      "(66, 66)\n",
      "(66, 66)\n",
      "8019.478689807812\n",
      "146.11470918932292\n",
      "(65, 65)\n",
      "(65, 65)\n",
      "7727.2492714291675\n",
      "139.50942964268236\n",
      "(64, 64)\n",
      "(64, 64)\n",
      "7448.2304121438\n",
      "136.62226652898408\n",
      "(63, 63)\n",
      "(63, 63)\n",
      "7174.985879085832\n",
      "133.73938364805738\n",
      "(62, 62)\n",
      "(62, 62)\n",
      "6907.50711178972\n",
      "129.2750080349577\n",
      "(61, 61)\n",
      "(61, 61)\n",
      "6648.957095719802\n",
      "125.3822697280685\n",
      "(60, 60)\n"
     ]
    }
   ],
   "source": [
    "graph_dict = load(\"$(read_dir)/randomGeom_70nodes_100reps_3_091720_graphs.jld\")\n",
    "weighted_graph_array = graph_dict[\"weighted_graph_array\"]\n",
    "\n",
    "nReps = size(weighted_graph_array)[3]\n",
    "G_end = weighted_graph_array[:,:,nReps]\n",
    "\n",
    "# Run PH\n",
    "\n",
    "G_n = G_end\n",
    "for n = 1:10\n",
    "    # Sort nodes by strength\n",
    "    G_strength = dropdims(sum(G_n, dims=1), dims=1)\n",
    "    println(size(G_n))\n",
    "    println(sum(G_strength))\n",
    "    sorted_nodes = sortperm(G_strength, rev=true)\n",
    "    highest_deg = sorted_nodes[1]\n",
    "    println(G_strength[highest_deg])\n",
    "    G_smaller = G_n[1:end .!= highest_deg, 1:end .!= highest_deg]\n",
    "    println(size(G_smaller))\n",
    "\n",
    "    # Run and save ph\n",
    "\n",
    "    G_n = deepcopy(G_smaller)\n",
    "end\n"
   ]
  },
  {
   "cell_type": "code",
   "execution_count": 7,
   "metadata": {},
   "outputs": [
    {
     "ename": "InterruptException",
     "evalue": "InterruptException:",
     "output_type": "error",
     "traceback": [
      "InterruptException:",
      "",
      "Stacktrace:",
      " [1] sigatomic_end at ./c.jl:425 [inlined]",
      " [2] disable_sigint at ./c.jl:448 [inlined]",
      " [3] __pycall! at /opt/julia/packages/PyCall/zqDXB/src/pyfncall.jl:42 [inlined]",
      " [4] _pycall!(::PyObject, ::PyObject, ::Tuple{PyObject}, ::Int64, ::PyObject) at /opt/julia/packages/PyCall/zqDXB/src/pyfncall.jl:29",
      " [5] _pycall!(::PyObject, ::PyObject, ::Tuple{PyObject}, ::Base.Iterators.Pairs{Symbol,String,Tuple{Symbol},NamedTuple{(:weight,),Tuple{String}}}) at /opt/julia/packages/PyCall/zqDXB/src/pyfncall.jl:11",
      " [6] #call#117 at /opt/julia/packages/PyCall/zqDXB/src/pyfncall.jl:86 [inlined]",
      " [7] (::getfield(PyCall, Symbol(\"#kw#PyObject\")))(::NamedTuple{(:weight,),Tuple{String}}, ::PyObject, ::PyObject) at ./none:0",
      " [8] top-level scope at ./In[7]:55"
     ]
    }
   ],
   "source": [
    "plot_array = Any[]\n",
    "\n",
    "for graph_file in graph_files\n",
    "    \n",
    "    graph_dict = load(\"$(read_dir)/$(graph_file)\")\n",
    "    weighted_graph_array = graph_dict[\"weighted_graph_array\"]\n",
    "\n",
    "    nReps = size(weighted_graph_array)[3]\n",
    "    G_end = weighted_graph_array[:,:,nReps]\n",
    "    G_avg = dropdims(mean(weighted_graph_array, dims=3), dims=3)\n",
    "\n",
    "    p1a = heatmap(G_end,yflip = true, aspect_ratio=:equal, grid = false, c = :viridis)\n",
    "    title!(\"Last graph\")\n",
    "    ylabel!(\"Nodes\")\n",
    "    xlabel!(\"Nodes\")\n",
    "    \n",
    "    # Degree distributions\n",
    "    p1b = histogram([sum(G_end, dims=1)...], legend = false, c=:gray, alpha = 0.3)\n",
    "    title!(\"Strength distribution last graph\")\n",
    "    ylabel!(\"Frequency\")\n",
    "    xlabel!(\"Node strength\")\n",
    "\n",
    "\n",
    "    # Edge weight distributions\n",
    "    p1c = histogram([G_end...], legend = false, c=:gray, alpha = 0.3)\n",
    "    title!(\"Last graph edge weight distribution\")\n",
    "    ylabel!(\"Frequency\")\n",
    "    xlabel!(\"Edge weight\")\n",
    "    \n",
    "    \n",
    "    p1d = heatmap(G_avg,yflip = true, aspect_ratio=:equal, grid=false, c = :viridis)\n",
    "    title!(\"Average graph\")\n",
    "    ylabel!(\"Nodes\")\n",
    "    xlabel!(\"Nodes\")\n",
    "    \n",
    "    p1e = histogram([sum(weighted_graph_array, dims=1)...], legend = false, c=:gray, alpha = 0.3)\n",
    "    title!(\"Strength distribution all graphs\")\n",
    "    ylabel!(\"Frequency\")\n",
    "    xlabel!(\"Node strength\")\n",
    "\n",
    "    p1f = histogram([weighted_graph_array...], legend = false, c=:gray, alpha = 0.3)\n",
    "    title!(\"All graphs edge weight distribution\")\n",
    "    ylabel!(\"Frequency\")\n",
    "    xlabel!(\"Edge weight\")\n",
    "\n",
    "\n",
    "    # Graph metrics\n",
    "    clustering = zeros(1,nReps)\n",
    "    modularity = zeros(1,nReps)\n",
    "\n",
    "\n",
    "    for rep in 1:nReps\n",
    "\n",
    "        g = nx.from_numpy_matrix(weighted_graph_array[:,:,rep], parallel_edges=false)\n",
    "        clustering[1, rep] = nx.average_clustering(g, weight = \"weight\")\n",
    "        modularity[1, rep] = nx.algorithms.community.modularity(g, nx.algorithms.community.label_propagation_communities(g))\n",
    "\n",
    "    end\n",
    "\n",
    "\n",
    "    p1g = histogram([clustering...], legend=false, c=:gray, alpha = 0.3)\n",
    "    title!(\"Average clustering (all graphs)\")\n",
    "    xlabel!(\"Avg. clustering\")\n",
    "    ylabel!(\"Frequency\")\n",
    "\n",
    "    p1h = histogram([modularity...], legend=false, c=:gray, alpha = 0.3)\n",
    "    title!(\"Modularity (all graphs)\")\n",
    "    xlabel!(\"Modularity\")\n",
    "    ylabel!(\"Frequency\")\n",
    "\n",
    "\n",
    "    pi = plot(p1a, p1b, p1c, layout = (3, 1))\n",
    "#         pi = plot(p1a, p1b, p1c, p1d, p1e, p1f, p1g, p1h, layout = (8, 1))\n",
    "#     savefig(\"../figures/$(replace(graph_file, \"_graphs.jld\" => \"\"))_$(SAVETAIL).pdf\")\n",
    "    push!(plot_array,pi)\n",
    "end\n",
    "\n",
    "plot(plot_array..., layout = (1,17), size = (1700, 5000))"
   ]
  },
  {
   "cell_type": "markdown",
   "metadata": {},
   "source": [
    "Plotting thresholded graphs"
   ]
  },
  {
   "cell_type": "code",
   "execution_count": 16,
   "metadata": {},
   "outputs": [
    {
     "data": {
      "text/plain": [
       "0-element Array{String,1}"
      ]
     },
     "execution_count": 16,
     "metadata": {},
     "output_type": "execute_result"
    }
   ],
   "source": [
    "## Make a big plot of graphs for each\n",
    "const read_dir_thresh = \"$(homedir())/$(config[\"read_dir_thresh\"])/$(NNODES)nodes\"\n",
    "\n",
    "# Maybe just betti bar first\n",
    "\n",
    "# Filter to just the thresholds\n",
    "\n",
    "thresh_files = filter(x->occursin(\"thresh\",x), readdir(read_dir_thresh))\n",
    "thresh_files = filter(x->occursin(\"$(DATE_STRING)\",x), thresh_files)\n",
    "thresh_files = filter(x->!occursin(\"noiseOnly\",x), thresh_files)\n",
    "\n",
    "# Locate the thresh nametages\n",
    "thresh_nametags = []\n",
    "for thresh_file in thresh_files\n",
    "    tag = split(split(thresh_file, \"graphs_\")[2], \"_edge\")[1]\n",
    "    thresh_nametags = [thresh_nametags; tag]\n",
    "end\n",
    "\n",
    "thresh_files"
   ]
  },
  {
   "cell_type": "code",
   "execution_count": 13,
   "metadata": {},
   "outputs": [
    {
     "ename": "ErrorException",
     "evalue": "File /home/jovyan/processed_data/graphs/70nodes/IID_70nodes_50reps_091520_graphs_thresh02_edge483.jld cannot be found",
     "output_type": "error",
     "traceback": [
      "File /home/jovyan/processed_data/graphs/70nodes/IID_70nodes_50reps_091520_graphs_thresh02_edge483.jld cannot be found",
      "",
      "Stacktrace:",
      " [1] error(::String, ::String, ::String) at ./error.jl:42",
      " [2] #jldopen#12(::Bool, ::Bool, ::Bool, ::typeof(jldopen), ::String, ::Bool, ::Bool, ::Bool, ::Bool, ::Bool) at /opt/julia/packages/JLD/jeGJb/src/JLD.jl:153",
      " [3] #jldopen at ./none:0 [inlined]",
      " [4] #jldopen#13(::Bool, ::Bool, ::Bool, ::typeof(jldopen), ::String, ::String) at /opt/julia/packages/JLD/jeGJb/src/JLD.jl:231",
      " [5] jldopen(::String, ::String) at /opt/julia/packages/JLD/jeGJb/src/JLD.jl:231",
      " [6] #jldopen#14(::Base.Iterators.Pairs{Union{},Union{},Tuple{},NamedTuple{(),Tuple{}}}, ::typeof(jldopen), ::getfield(JLD, Symbol(\"##42#44\")), ::String, ::Vararg{String,N} where N) at /opt/julia/packages/JLD/jeGJb/src/JLD.jl:241",
      " [7] jldopen(::Function, ::String, ::String) at /opt/julia/packages/JLD/jeGJb/src/JLD.jl:241",
      " [8] load(::FileIO.File{FileIO.DataFormat{:JLD}}) at /opt/julia/packages/JLD/jeGJb/src/JLD.jl:1245",
      " [9] #load#14(::Base.Iterators.Pairs{Union{},Union{},Tuple{},NamedTuple{(),Tuple{}}}, ::typeof(load), ::String) at /opt/julia/packages/FileIO/wN5rD/src/loadsave.jl:133",
      " [10] load(::String) at /opt/julia/packages/FileIO/wN5rD/src/loadsave.jl:133",
      " [11] top-level scope at In[13]:10"
     ]
    }
   ],
   "source": [
    "## Loop through and make big graph\n",
    "\n",
    "for thresh_nametag in thresh_nametags\n",
    "    \n",
    "    thresh_files_filtered = filter(x->occursin(thresh_nametag,x), thresh_files)\n",
    "    \n",
    "    for thresh_file_filtered in thresh_files_filtered\n",
    "        \n",
    "        # read in graphs\n",
    "        graph_dict = load(\"$(read_dir)/$(thresh_file_filtered)\")\n",
    "        weighted_graph_array = graph_dict[\"weighted_graph_array\"]\n",
    "\n",
    "        nReps = size(weighted_graph_array)[3]\n",
    "        G_end = weighted_graph_array[:,:,nReps]\n",
    "        \n",
    "        # Convert to networkx graph\n",
    "        g = nx.from_numpy_matrix(G_end, parallel_edges=false)\n",
    "        nx.draw_networkx(g)\n",
    "        \n",
    "    end\n",
    "    \n",
    "end\n",
    "\n",
    "        \n",
    "        "
   ]
  },
  {
   "cell_type": "code",
   "execution_count": null,
   "metadata": {},
   "outputs": [],
   "source": []
  }
 ],
 "metadata": {
  "kernelspec": {
   "display_name": "Julia 1.2.0",
   "language": "julia",
   "name": "julia-1.2"
  },
  "language_info": {
   "file_extension": ".jl",
   "mimetype": "application/julia",
   "name": "julia",
   "version": "1.2.0"
  }
 },
 "nbformat": 4,
 "nbformat_minor": 2
}
