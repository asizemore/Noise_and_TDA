{
 "cells": [
  {
   "cell_type": "code",
   "execution_count": 1,
   "metadata": {},
   "outputs": [
    {
     "name": "stderr",
     "output_type": "stream",
     "text": [
      "┌ Info: Precompiling StatsBase [2913bbd2-ae8a-5f71-8c99-4fb6c76f3a91]\n",
      "└ @ Base loading.jl:1242\n",
      "┌ Info: Precompiling JLD [4138dd39-2aa7-5051-a626-17a0bb65d9c8]\n",
      "└ @ Base loading.jl:1242\n",
      "┌ Info: Precompiling Plots [91a5bcdd-55d7-5caf-9e0b-520d859cae80]\n",
      "└ @ Base loading.jl:1242\n"
     ]
    },
    {
     "ename": "ArgumentError",
     "evalue": "ArgumentError: Package JSON not found in current path:\n- Run `import Pkg; Pkg.add(\"JSON\")` to install the JSON package.\n",
     "output_type": "error",
     "traceback": [
      "ArgumentError: Package JSON not found in current path:\n- Run `import Pkg; Pkg.add(\"JSON\")` to install the JSON package.\n",
      "",
      "Stacktrace:",
      " [1] require(::Module, ::Symbol) at ./loading.jl:876",
      " [2] top-level scope at In[1]:9"
     ]
    }
   ],
   "source": [
    "## Import packages\n",
    "\n",
    "using Statistics\n",
    "using LinearAlgebra\n",
    "using StatsBase\n",
    "using Random\n",
    "using JLD\n",
    "using Plots\n",
    "using JSON\n",
    "using ColorSchemes\n",
    "using PyCall\n",
    "nx = pyimport(\"networkx\")\n",
    "\n"
   ]
  },
  {
   "cell_type": "code",
   "execution_count": 5,
   "metadata": {},
   "outputs": [
    {
     "name": "stdout",
     "output_type": "stream",
     "text": [
      "\u001b[32m\u001b[1m  Updating\u001b[22m\u001b[39m registry at `/opt/julia/registries/General`\n",
      "\u001b[32m\u001b[1m  Updating\u001b[22m\u001b[39m git-repo `https://github.com/JuliaRegistries/General.git`\n",
      "\u001b[2K\u001b[?25h[1mFetching:\u001b[22m\u001b[39m [========================================>]  100.0 %.0 %========>                                ]  18.4 %36.6 %=======================>                 ]  55.0 %]  73.3 %=====================================>   ]  91.6 %\u001b[32m\u001b[1m Resolving\u001b[22m\u001b[39m package versions...\n",
      "\u001b[32m\u001b[1m Installed\u001b[22m\u001b[39m Requires ───── v1.0.2\n",
      "\u001b[32m\u001b[1m Installed\u001b[22m\u001b[39m OffsetArrays ─ v1.1.3\n",
      "\u001b[32m\u001b[1m  Updating\u001b[22m\u001b[39m `/opt/julia/environments/v1.2/Project.toml`\n",
      " \u001b[90m [682c06a0]\u001b[39m\u001b[92m + JSON v0.21.0\u001b[39m\n",
      "\u001b[32m\u001b[1m  Updating\u001b[22m\u001b[39m `/opt/julia/environments/v1.2/Manifest.toml`\n",
      " \u001b[90m [6fe1bfb0]\u001b[39m\u001b[93m ↑ OffsetArrays v1.1.2 ⇒ v1.1.3\u001b[39m\n",
      " \u001b[90m [ae029012]\u001b[39m\u001b[93m ↑ Requires v1.0.1 ⇒ v1.0.2\u001b[39m\n"
     ]
    }
   ],
   "source": [
    "using Pkg\n",
    "Pkg.add(\"JSON\")\n",
    "using JSON"
   ]
  },
  {
   "cell_type": "code",
   "execution_count": 25,
   "metadata": {},
   "outputs": [
    {
     "data": {
      "text/plain": [
       "Dict{String,Any} with 25 entries:\n",
       "  \"SAVETAIL_ph_thresholds\"    => \"eireneoutput_threshold\"\n",
       "  \"NNODES\"                    => 70\n",
       "  \"P\"                         => 0.01\n",
       "  \"SAVETAIL_ph_forward\"       => \"eireneoutput_forward\"\n",
       "  \"THRESHVEC\"                 => Any[0.05, 0.1, 0.15, 0.2, 0.3, 0.4, 0.5, 0.6]\n",
       "  \"SAVETAIL_bettis\"           => \"bettis\"\n",
       "  \"B\"                         => 1000\n",
       "  \"MAXDIM\"                    => 2\n",
       "  \"SAVETAIL_bettiBars\"        => \"bettiBars\"\n",
       "  \"NAMEID_ph_thresholds\"      => \"thresh\"\n",
       "  \"graph_models\"              => Dict{String,Any}(\"IID\"=>Dict{String,Any}(\"name…\n",
       "  \"SAVE_DATA\"                 => 1\n",
       "  \"read_dir_graphs\"           => \"processed_data/graphs\"\n",
       "  \"SAVETAIL_ph_backward\"      => \"eireneoutput_backward\"\n",
       "  \"A\"                         => 0\n",
       "  \"DIMS\"                      => 3\n",
       "  \"SAVETAIL_threshold_graphs\" => \"rho\"\n",
       "  \"save_dir_graphs\"           => \"processed_data/graphs\"\n",
       "  \"NAMETAG_creategraphs\"      => \"graphs\"\n",
       "  \"read_dir_results\"          => \"processed_data/results\"\n",
       "  \"DATE_STRING\"               => \"083120\"\n",
       "  \"save_dir_forJason\"         => \"processed_data/forJason\"\n",
       "  \"save_dir_results\"          => \"processed_data/results\"\n",
       "  \"NREPS\"                     => 50\n",
       "  \"SCALE_FACTOR\"              => 100"
      ]
     },
     "execution_count": 25,
     "metadata": {},
     "output_type": "execute_result"
    }
   ],
   "source": [
    "include(\"graph_models.jl\")\n",
    "function read_config(config_file)\n",
    "    \n",
    "    # Code from https://gist.github.com/silgon/0ba43e00e0749cdf4f8d244e67cd9d6a\n",
    "\n",
    "    config = Dict()\n",
    "    open(config_file, \"r\") do f\n",
    "        config=JSON.parse(f)  # parse and transform data\n",
    "    end\n",
    "    \n",
    "    return config\n",
    "    \n",
    "end\n",
    "\n",
    "configs = read_config(\"../configs/config083120.json\")\n",
    "configs"
   ]
  },
  {
   "cell_type": "code",
   "execution_count": 41,
   "metadata": {},
   "outputs": [
    {
     "ename": "UndefVarError",
     "evalue": "UndefVarError: rando not defined",
     "output_type": "error",
     "traceback": [
      "UndefVarError: rando not defined",
      "",
      "Stacktrace:",
      " [1] top-level scope at In[41]:2"
     ]
    }
   ],
   "source": [
    "parameters = [\"test\", \"02\", 3, 10]\n",
    "\n",
    "\n",
    "if !isempty(rando)\n",
    "    println(\"yes\")\n",
    "end\n"
   ]
  },
  {
   "cell_type": "code",
   "execution_count": 32,
   "metadata": {},
   "outputs": [
    {
     "data": {
      "text/plain": [
       "3"
      ]
     },
     "execution_count": 32,
     "metadata": {},
     "output_type": "execute_result"
    }
   ],
   "source": [
    "graph_models = configs[\"graph_models\"]\n",
    "graph_models\n",
    "# for (graph_model, graph_info) in graph_models\n",
    "#     println(graph_model)\n",
    "#     model_fn = getfield(Main, Symbol(graph_info[\"fn\"]))\n",
    "#     model_parameters = graph_info[\"parameters\"]\n",
    "#     newgraph = model_fn(30,model_parameters...)\n",
    "# #     println(newgraph)\n",
    "# end\n",
    "length(graph_models)"
   ]
  },
  {
   "cell_type": "code",
   "execution_count": 20,
   "metadata": {},
   "outputs": [
    {
     "data": {
      "text/plain": [
       "80×80 Array{Float64,2}:\n",
       " 0.0        0.136483   0.18362    …  0.816149   0.357505   0.742278 \n",
       " 0.136483   0.0        0.274455      0.735117   0.186982   0.591078 \n",
       " 0.18362    0.274455   0.0           0.401195   0.419856   0.0819382\n",
       " 0.971518   0.798699   0.418183      0.907383   0.785385   0.791005 \n",
       " 0.406929   0.013753   0.916184      0.282697   0.200767   0.172833 \n",
       " 0.75207    0.87459    0.586163   …  0.243508   0.0148904  0.581091 \n",
       " 0.0406881  0.824064   0.289625      0.365939   0.686186   0.959073 \n",
       " 0.494814   0.753352   0.610773      0.302641   0.573982   0.632115 \n",
       " 0.275823   0.389371   0.410281      0.951965   0.249178   0.716419 \n",
       " 0.420125   0.940786   0.219418      0.44931    0.375299   0.800189 \n",
       " 0.905552   0.919929   0.534276   …  0.584622   0.193834   0.554434 \n",
       " 0.605557   0.97306    0.400798      0.737496   0.667      0.912933 \n",
       " 0.158664   0.947453   0.708204      0.655706   0.810537   0.873189 \n",
       " ⋮                                ⋱                                 \n",
       " 0.191992   0.725837   0.0794839     0.445715   0.750026   0.877947 \n",
       " 0.558852   0.958021   0.19017       0.954009   0.566703   0.500201 \n",
       " 0.681921   0.470295   0.0388497  …  0.990079   0.339744   0.637921 \n",
       " 0.566752   0.43008    0.456917      0.730107   0.0469929  0.636489 \n",
       " 0.561749   0.444448   0.591659      0.36601    0.623403   0.428223 \n",
       " 0.730629   0.0593967  0.899868      0.800021   0.550342   0.4302   \n",
       " 0.790269   0.257563   0.0388212     0.534593   0.570807   0.3414   \n",
       " 0.709286   0.676162   0.292787   …  0.329954   0.556333   0.926675 \n",
       " 0.0347892  0.348053   0.188576      0.0422797  0.709179   0.94989  \n",
       " 0.816149   0.735117   0.401195      0.0        0.0349343  0.0958638\n",
       " 0.357505   0.186982   0.419856      0.0349343  0.0        0.0328923\n",
       " 0.742278   0.591078   0.0819382     0.0958638  0.0328923  0.0      "
      ]
     },
     "execution_count": 20,
     "metadata": {},
     "output_type": "execute_result"
    }
   ],
   "source": [
    "\n",
    "fnnew = getfield(Main, Symbol(graph_info[\"fn\"]))\n",
    "# getfield(Main, Symbol(configs[\"function1\"]))([1 2 3 4])\n",
    "fnnew(80,graph_params...)"
   ]
  },
  {
   "cell_type": "code",
   "execution_count": null,
   "metadata": {},
   "outputs": [],
   "source": [
    "\n",
    "dict2[\"nNodes\"]\n",
    "homedir()"
   ]
  },
  {
   "cell_type": "code",
   "execution_count": null,
   "metadata": {},
   "outputs": [],
   "source": [
    "# Define parameters\n",
    "const NNODES = 70\n",
    "const DATE_STRING = \"082520\"\n",
    "const NAMETAG = \"graphInfo\"\n",
    "const read_dir = \"../processed_data/graphs/$(NNODES)nodes\"\n",
    "\n",
    "# Locate graph files\n",
    "graph_files = filter(x->occursin(\"thresh\",x), readdir(read_dir))\n",
    "println(\"Located the following graph files:\")\n",
    "for graph_file in graph_files\n",
    "    println(graph_file)\n",
    "end\n",
    "model_names = [split(graph_file,\"_\")[1] for graph_file in graph_files]"
   ]
  },
  {
   "cell_type": "code",
   "execution_count": null,
   "metadata": {},
   "outputs": [],
   "source": [
    "for graph_file in graph_files\n",
    "    \n",
    "    graph_dict = load(\"$(read_dir)/$(graph_file)\")\n",
    "    weighted_graph_array = graph_dict[\"weighted_graph_array_noise\"]\n",
    "\n",
    "    nReps = size(weighted_graph_array)[3]\n",
    "    G_end = weighted_graph_array[:,:,nReps]\n",
    "    G_avg = dropdims(mean(weighted_graph_array, dims=3), dims=3)\n",
    "\n",
    "    p1a = heatmap(G_end,yflip = true, aspect_ratio=:equal, grid = false, c = :viridis)\n",
    "    title!(\"Last graph\")\n",
    "    ylabel!(\"Nodes\")\n",
    "    xlabel!(\"Nodes\")\n",
    "\n",
    "    p1b = heatmap(G_avg,yflip = true, aspect_ratio=:equal, grid=false, c = :viridis)\n",
    "    title!(\"Average graph\")\n",
    "    ylabel!(\"Nodes\")\n",
    "    xlabel!(\"Nodes\")\n",
    "\n",
    "    # Edge weight distributions\n",
    "    p1c = histogram([G_end...], legend = false, c=:gray, alpha = 0.3)\n",
    "    title!(\"Last graph edge weight distribution\")\n",
    "    ylabel!(\"Frequency\")\n",
    "    xlabel!(\"Edge weight\")\n",
    "\n",
    "    p1d = histogram([weighted_graph_array...], legend = false, c=:gray, alpha = 0.3)\n",
    "    title!(\"All graphs edge weight distribution\")\n",
    "    ylabel!(\"Frequency\")\n",
    "    xlabel!(\"Edge weight\")\n",
    "\n",
    "    # Degree distributions\n",
    "    p1e = histogram([sum(G_end, dims=1)...], legend = false, c=:gray, alpha = 0.3)\n",
    "    title!(\"Strength distribution last graph\")\n",
    "    ylabel!(\"Frequency\")\n",
    "    xlabel!(\"Node strength\")\n",
    "\n",
    "    p1f = histogram([sum(weighted_graph_array, dims=1)...], legend = false, c=:gray, alpha = 0.3)\n",
    "    title!(\"Strength distribution all graphs\")\n",
    "    ylabel!(\"Frequency\")\n",
    "    xlabel!(\"Node strength\")\n",
    "\n",
    "    # Graph metrics\n",
    "    clustering = zeros(1,nReps)\n",
    "    modularity = zeros(1,nReps)\n",
    "\n",
    "\n",
    "    for rep in 1:nReps\n",
    "\n",
    "        g = nx.from_numpy_matrix(weighted_graph_array[:,:,rep], parallel_edges=false)\n",
    "        clustering[1, rep] = nx.average_clustering(g, weight = \"weight\")\n",
    "        modularity[1, rep] = nx.algorithms.community.modularity(g, nx.algorithms.community.label_propagation_communities(g))\n",
    "\n",
    "    end\n",
    "\n",
    "\n",
    "    p1g = histogram([clustering...], legend=false, c=:gray, alpha = 0.3)\n",
    "    title!(\"Average clustering (all graphs)\")\n",
    "    xlabel!(\"Avg. clustering\")\n",
    "    ylabel!(\"Frequency\")\n",
    "\n",
    "    p1h = histogram([modularity...], legend=false, c=:gray, alpha = 0.3)\n",
    "    title!(\"Modularity (all graphs)\")\n",
    "    xlabel!(\"Modularity\")\n",
    "    ylabel!(\"Frequency\")\n",
    "\n",
    "\n",
    "    plot(p1a, p1b, p1c, p1d, p1e, p1f, p1g, p1h, layout = (4, 2), size = (700,1100))\n",
    "    savefig(\"../figures/$(replace(graph_file, \"_graphs.jld\" => \"\"))_$(NAMETAG).pdf\")\n",
    "end\n",
    "\n"
   ]
  },
  {
   "cell_type": "code",
   "execution_count": null,
   "metadata": {},
   "outputs": [],
   "source": [
    "\n",
    "   "
   ]
  }
 ],
 "metadata": {
  "kernelspec": {
   "display_name": "Julia 1.2.0",
   "language": "julia",
   "name": "julia-1.2"
  },
  "language_info": {
   "file_extension": ".jl",
   "mimetype": "application/julia",
   "name": "julia",
   "version": "1.2.0"
  }
 },
 "nbformat": 4,
 "nbformat_minor": 2
}
