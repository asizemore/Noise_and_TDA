{
 "cells": [
  {
   "cell_type": "markdown",
   "metadata": {},
   "source": [
    "## For clustering the eirene outputs dev"
   ]
  },
  {
   "cell_type": "code",
   "execution_count": 1,
   "metadata": {},
   "outputs": [
    {
     "data": {
      "text/html": [
       "<script>\n",
       "// Immediately-invoked-function-expression to avoid global variables.\n",
       "(function() {\n",
       "    var warning_div = document.getElementById(\"webio-warning-7468476903611371082\");\n",
       "    var hide = function () {\n",
       "        var script = document.getElementById(\"webio-setup-3882521188107977874\");\n",
       "        var parent = script && script.parentElement;\n",
       "        var grandparent = parent && parent.parentElement;\n",
       "        if (grandparent) {\n",
       "            grandparent.style.display = \"none\";\n",
       "        }\n",
       "        warning_div.style.display = \"none\";\n",
       "    };\n",
       "    if (typeof Jupyter !== \"undefined\") {\n",
       "        console.log(\"WebIO detected Jupyter notebook environment.\");\n",
       "        // Jupyter notebook.\n",
       "        var extensions = (\n",
       "            Jupyter\n",
       "            && Jupyter.notebook.config.data\n",
       "            && Jupyter.notebook.config.data.load_extensions\n",
       "        );\n",
       "        if (extensions && extensions[\"webio-jupyter-notebook\"]) {\n",
       "            // Extension already loaded.\n",
       "            console.log(\"Jupyter WebIO nbextension detected; not loading ad-hoc.\");\n",
       "            hide();\n",
       "            return;\n",
       "        }\n",
       "    } else if (window.location.pathname.includes(\"/lab\")) {\n",
       "        // Guessing JupyterLa\n",
       "        console.log(\"Jupyter Lab detected; make sure the @webio/jupyter-lab-provider labextension is installed.\");\n",
       "        hide();\n",
       "        return;\n",
       "    }\n",
       "})();\n",
       "\n",
       "</script>\n",
       "<p\n",
       "    id=\"webio-warning-7468476903611371082\"\n",
       "    class=\"output_text output_stderr\"\n",
       "    style=\"padding: 1em; font-weight: bold;\"\n",
       ">\n",
       "    Unable to load WebIO. Please make sure WebIO works for your Jupyter client.\n",
       "    For troubleshooting, please see <a href=\"https://juliagizmos.github.io/WebIO.jl/latest/providers/ijulia/\">\n",
       "    the WebIO/IJulia documentation</a>.\n",
       "    <!-- TODO: link to installation docs. -->\n",
       "</p>\n"
      ],
      "text/plain": [
       "HTML{String}(\"<script>\\n// Immediately-invoked-function-expression to avoid global variables.\\n(function() {\\n    var warning_div = document.getElementById(\\\"webio-warning-7468476903611371082\\\");\\n    var hide = function () {\\n        var script = document.getElementById(\\\"webio-setup-3882521188107977874\\\");\\n        var parent = script && script.parentElement;\\n        var grandparent = parent && parent.parentElement;\\n        if (grandparent) {\\n            grandparent.style.display = \\\"none\\\";\\n        }\\n        warning_div.style.display = \\\"none\\\";\\n    };\\n    if (typeof Jupyter !== \\\"undefined\\\") {\\n        console.log(\\\"WebIO detected Jupyter notebook environment.\\\");\\n        // Jupyter notebook.\\n        var extensions = (\\n            Jupyter\\n            && Jupyter.notebook.config.data\\n            && Jupyter.notebook.config.data.load_extensions\\n        );\\n        if (extensions && extensions[\\\"webio-jupyter-notebook\\\"]) {\\n            // Extension already loaded.\\n            console.log(\\\"Jupyter WebIO nbextension detected; not loading ad-hoc.\\\");\\n            hide();\\n            return;\\n        }\\n    } else if (window.location.pathname.includes(\\\"/lab\\\")) {\\n        // Guessing JupyterLa\\n        console.log(\\\"Jupyter Lab detected; make sure the @webio/jupyter-lab-provider labextension is installed.\\\");\\n        hide();\\n        return;\\n    }\\n})();\\n\\n</script>\\n<p\\n    id=\\\"webio-warning-7468476903611371082\\\"\\n    class=\\\"output_text output_stderr\\\"\\n    style=\\\"padding: 1em; font-weight: bold;\\\"\\n>\\n    Unable to load WebIO. Please make sure WebIO works for your Jupyter client.\\n    For troubleshooting, please see <a href=\\\"https://juliagizmos.github.io/WebIO.jl/latest/providers/ijulia/\\\">\\n    the WebIO/IJulia documentation</a>.\\n    <!-- TODO: link to installation docs. -->\\n</p>\\n\")"
      ]
     },
     "metadata": {},
     "output_type": "display_data"
    },
    {
     "name": "stdout",
     "output_type": "stream",
     "text": [
      "\u001b[32m\u001b[1m  Updating\u001b[22m\u001b[39m registry at `/opt/julia/registries/General`\n",
      "\u001b[32m\u001b[1m  Updating\u001b[22m\u001b[39m git-repo `https://github.com/JuliaRegistries/General.git`\n",
      "\u001b[?25l\u001b[2K\u001b[?25h\u001b[32m\u001b[1m Resolving\u001b[22m\u001b[39m package versions...\n",
      "\u001b[32m\u001b[1m  Updating\u001b[22m\u001b[39m `/opt/julia/environments/v1.2/Project.toml`\n",
      "\u001b[90m [no changes]\u001b[39m\n",
      "\u001b[32m\u001b[1m  Updating\u001b[22m\u001b[39m `/opt/julia/environments/v1.2/Manifest.toml`\n",
      "\u001b[90m [no changes]\u001b[39m\n"
     ]
    },
    {
     "data": {
      "text/plain": [
       "nuBarFromBarcode (generic function with 1 method)"
      ]
     },
     "execution_count": 1,
     "metadata": {},
     "output_type": "execute_result"
    }
   ],
   "source": [
    "using Pkg\n",
    "using Statistics\n",
    "using Plots\n",
    "using LinearAlgebra\n",
    "using Distances\n",
    "using Eirene\n",
    "using StatsBase\n",
    "using Random\n",
    "using Distributions\n",
    "using JLD\n",
    "using MAT\n",
    "Pkg.add(\"ColorSchemes\")\n",
    "using ColorSchemes\n",
    "include(\"helper_functions.jl\")\n",
    "\n",
    "\n",
    "\n",
    "function bettiBarFromBarcode(barcode,nSteps)\n",
    "    \n",
    "    bettiBar = 0\n",
    "    \n",
    "    for bar in eachrow(barcode)\n",
    "        \n",
    "        bar_birth = Int(bar[1])\n",
    "        bar_death = Int(bar[2])\n",
    "        \n",
    "        lifetime = bar_death - bar_birth\n",
    "        \n",
    "        bettiBar = bettiBar + lifetime\n",
    "    end\n",
    "    \n",
    "    return bettiBar\n",
    "end\n",
    "\n",
    "\n",
    "function muBarFromBarcode(barcode,nSteps)\n",
    "    \n",
    "    muBar = 0\n",
    "    \n",
    "    for bar in eachrow(barcode)\n",
    "        \n",
    "        bar_birth = Int(bar[1])\n",
    "        bar_death = Int(bar[2])\n",
    "        \n",
    "        lifetime_scaled = bar_birth*(bar_death - bar_birth)\n",
    "        \n",
    "        muBar = muBar + lifetime_scaled\n",
    "    end\n",
    "    \n",
    "    return muBar\n",
    "end\n",
    "    \n",
    "\n",
    "function nuBarFromBarcode(barcode,nSteps)\n",
    "    \n",
    "    # Assuming nSteps is the end of the filtration.\n",
    "    \n",
    "    nuBar = 0\n",
    "    \n",
    "    for bar in eachrow(barcode)\n",
    "        \n",
    "        bar_birth = Int(bar[1])\n",
    "        bar_death = Int(bar[2])\n",
    "        \n",
    "        lifetime_scaled = (nSteps - bar_death)*(bar_death - bar_birth)\n",
    "        \n",
    "        nuBar = nuBar + lifetime_scaled\n",
    "    end\n",
    "    \n",
    "    return nuBar\n",
    "end\n"
   ]
  },
  {
   "cell_type": "code",
   "execution_count": 2,
   "metadata": {},
   "outputs": [
    {
     "data": {
      "text/plain": [
       "\"both\""
      ]
     },
     "execution_count": 2,
     "metadata": {},
     "output_type": "execute_result"
    }
   ],
   "source": [
    "# Loop through data with specific output ending and load them\n",
    "thresh = \"005\"\n",
    "rho = 0.05\n",
    "date_string = \"082420\"\n",
    "myreaddir = \"/home/jovyan/processed_data/70nodes/thresh_$(thresh)\"\n",
    "half_flag = \"both\"  #\"first\" or \"second\" or \"both\"\n"
   ]
  },
  {
   "cell_type": "code",
   "execution_count": 3,
   "metadata": {},
   "outputs": [
    {
     "data": {
      "text/plain": [
       "10-element Array{String,1}:\n",
       " \"DP_500_005_700_30_eirene_output.jld\"                       \n",
       " \"IID_500_005_700_eirene_output.jld\"                         \n",
       " \"RG_500_005_700_30_eirene_output.jld\"                       \n",
       " \"RL_500_005_700_eirene_output.jld\"                          \n",
       " \"assoc_700_100_100_20_20_09_05_005_eirene_output.jld\"       \n",
       " \"coreperiph_700_100_100_20_20_09_05_005_eirene_output.jld\"  \n",
       " \"cosineGeometric_500_005_700_30_eirene_output.jld\"          \n",
       " \"disassort_700_100_100_20_20_09_05_005_eirene_output.jld\"   \n",
       " \"discreteUniformConf_500_005_700_00_10000_eirene_output.jld\"\n",
       " \"geometricConf_500_005_700_001_1000_eirene_output.jld\"      "
      ]
     },
     "execution_count": 3,
     "metadata": {},
     "output_type": "execute_result"
    }
   ],
   "source": [
    "eirene_output_files = filter(x->occursin(\"eirene_output\",x), readdir(myreaddir))\n",
    "\n",
    "# Keep only the files with the appropriate number of nodes (700 = 70 nodes)\n",
    "filter!(x->occursin(\"700\",x), eirene_output_files)"
   ]
  },
  {
   "cell_type": "code",
   "execution_count": 4,
   "metadata": {
    "scrolled": true
   },
   "outputs": [
    {
     "name": "stdout",
     "output_type": "stream",
     "text": [
      "Finished 1\n",
      "Finished 2\n",
      "Finished 3\n",
      "Finished 4\n",
      "Finished 5\n",
      "Finished 6\n",
      "Finished 7\n",
      "Finished 8\n",
      "Finished 9\n",
      "Finished 10\n"
     ]
    }
   ],
   "source": [
    "# Load in the data and calculate betti curves. Then save for jason\n",
    "\n",
    "const NREPS = 50\n",
    "const NNODES = 70\n",
    "const MAXDIM = 3\n",
    "\n",
    "nModels = length(eirene_output_files)\n",
    "model_names = [split(eirene_output_files[i],\"_\")[1] for i=1:nModels]\n",
    "\n",
    "nEdges = binomial(NNODES, 2)\n",
    "betti_curve_array_all = zeros(NREPS,nEdges,MAXDIM,nModels)\n",
    "bettiBar_all = zeros(NREPS,MAXDIM,nModels)\n",
    "muBar_all = zeros(NREPS,MAXDIM,nModels)\n",
    "nuBar_all = zeros(NREPS,MAXDIM,nModels)\n",
    "betti_curve_i = []\n",
    "for (i,file) in enumerate(eirene_output_files)\n",
    "    \n",
    "    graph_output_dict = load(\"$(myreaddir)/$(file)\")\n",
    "    \n",
    "    # Exctract barcode array\n",
    "    barcode_array_i = graph_output_dict[\"barcode_array\"]\n",
    "    \n",
    "    # Compute betti curve for this graph\n",
    "    for rep = 1:NREPS\n",
    "        for k in collect(1:MAXDIM)\n",
    "            \n",
    "            barcode_i = barcode_array_i[rep,k]\n",
    "            \n",
    "            # Filter betti_curve_i based on which half we want\n",
    "            if half_flag == \"first\"\n",
    "                \n",
    "                # Then we want to set all edges in the second 'half' to the last real edge = thresh edge\n",
    "                thresh_edge_number = ceil(Int,rho*nEdges)\n",
    "                barcode_i[barcode_i.> thresh_edge_number].= thresh_edge_number\n",
    "                \n",
    "            elseif half_flag == \"second\"\n",
    "                # Then we want to set all edges in the first 'half' to the first noise edge = thresh edge + 1\n",
    "                thresh_edge_number = ceil(Int,rho*nEdges)\n",
    "                barcode_i[barcode_i.<= thresh_edge_number].= thresh_edge_number+1\n",
    "            end\n",
    "                \n",
    "                \n",
    "            betti_curve_i = betticurveFromBarcode(barcode_i, nEdges)\n",
    "            betti_curve_array_all[rep, :, k, i] = betticurveFromBarcode(barcode_i, nEdges)\n",
    "            \n",
    "            # Calculate bettiBar, muBar, nuBar\n",
    "            bettiBar_all[rep, k, i] = bettiBarFromBarcode(barcode_i,nEdges)\n",
    "            muBar_all[rep, k, i] = muBarFromBarcode(barcode_i,nEdges)\n",
    "            nuBar_all[rep, k, i] = nuBarFromBarcode(barcode_i,nEdges)\n",
    "            \n",
    "        end\n",
    "    end\n",
    "    \n",
    "    println(\"Finished $(i)\")\n",
    "    \n",
    "    \n",
    "end\n",
    "    \n",
    "    "
   ]
  },
  {
   "cell_type": "code",
   "execution_count": 5,
   "metadata": {},
   "outputs": [
    {
     "name": "stdout",
     "output_type": "stream",
     "text": [
      "(2415, 3, 10)\n"
     ]
    }
   ],
   "source": [
    "# Now to double check we did things right, let's make some Betti Curve plots from our data...\n",
    "\n",
    "betti_curve_avgs = dropdims(mean(betti_curve_array_all, dims=1), dims=1)\n",
    "println(size(betti_curve_avgs))\n",
    "\n",
    "# Make figure\n",
    "p1a = plot(betti_curve_avgs[:,1,:], layout = 12, size = (1000,800), palette = cgrad(:viridis), title = [\"$(model_names[i])\" for j=1:1, i=1:nModels])\n",
    "for d=2:MAXDIM\n",
    "    plot!(betti_curve_avgs[:,d,:],legend = nothing, xlabel = \"Edges added\", ylabel=\"Beta_k\")\n",
    "    \n",
    "end\n",
    "# Add vertical line at the noise cutoff\n",
    "thresh_edge_number = ceil(Int,rho*nEdges)\n",
    "vline!(transpose([thresh_edge_number for i=1:nModels]), color=:gray)\n",
    "p1a\n",
    "savefig(\"../figures/all_bettis_rho$(thresh)_$(date_string)_$(half_flag).pdf\")"
   ]
  },
  {
   "cell_type": "code",
   "execution_count": 6,
   "metadata": {},
   "outputs": [
    {
     "name": "stdout",
     "output_type": "stream",
     "text": [
      "121\n"
     ]
    }
   ],
   "source": [
    "\n",
    "println(thresh_edge_number)"
   ]
  },
  {
   "cell_type": "code",
   "execution_count": 7,
   "metadata": {},
   "outputs": [],
   "source": [
    "# Save file for jason\n",
    "\n",
    "matwrite(\"../processed_data/70nodes/thresh_$(thresh)/bettis_all_rho$(thresh)_$(date_string)_$(half_flag)_forJason.mat\", Dict(\"all_bettis_mat\" => betti_curve_array_all, \n",
    "        \"bettiBar_array\" => bettiBar_all, \n",
    "        \"muBar_array\" => muBar_all,\n",
    "        \"nuBar_array\" => nuBar_all))"
   ]
  },
  {
   "cell_type": "code",
   "execution_count": null,
   "metadata": {},
   "outputs": [],
   "source": []
  }
 ],
 "metadata": {
  "kernelspec": {
   "display_name": "Julia 1.2.0",
   "language": "julia",
   "name": "julia-1.2"
  },
  "language_info": {
   "file_extension": ".jl",
   "mimetype": "application/julia",
   "name": "julia",
   "version": "1.2.0"
  }
 },
 "nbformat": 4,
 "nbformat_minor": 2
}
