{
 "cells": [
  {
   "cell_type": "code",
   "execution_count": 1,
   "metadata": {},
   "outputs": [
    {
     "name": "stdout",
     "output_type": "stream",
     "text": [
      "\n",
      "importing packages...\n"
     ]
    },
    {
     "name": "stderr",
     "output_type": "stream",
     "text": [
      "┌ Info: Recompiling stale cache file /opt/julia/compiled/v1.2/Eirene/mCiG1.ji for Eirene [9c0f25c4-2ca1-5870-89f6-52640788da1d]\n",
      "└ @ Base loading.jl:1240\n"
     ]
    },
    {
     "data": {
      "text/html": [
       "<script>\n",
       "// Immediately-invoked-function-expression to avoid global variables.\n",
       "(function() {\n",
       "    var warning_div = document.getElementById(\"webio-warning-16050305944030993112\");\n",
       "    var hide = function () {\n",
       "        var script = document.getElementById(\"webio-setup-10930970487575992933\");\n",
       "        var parent = script && script.parentElement;\n",
       "        var grandparent = parent && parent.parentElement;\n",
       "        if (grandparent) {\n",
       "            grandparent.style.display = \"none\";\n",
       "        }\n",
       "        warning_div.style.display = \"none\";\n",
       "    };\n",
       "    if (typeof Jupyter !== \"undefined\") {\n",
       "        console.log(\"WebIO detected Jupyter notebook environment.\");\n",
       "        // Jupyter notebook.\n",
       "        var extensions = (\n",
       "            Jupyter\n",
       "            && Jupyter.notebook.config.data\n",
       "            && Jupyter.notebook.config.data.load_extensions\n",
       "        );\n",
       "        if (extensions && extensions[\"webio-jupyter-notebook\"]) {\n",
       "            // Extension already loaded.\n",
       "            console.log(\"Jupyter WebIO nbextension detected; not loading ad-hoc.\");\n",
       "            hide();\n",
       "            return;\n",
       "        }\n",
       "    } else if (window.location.pathname.includes(\"/lab\")) {\n",
       "        // Guessing JupyterLa\n",
       "        console.log(\"Jupyter Lab detected; make sure the @webio/jupyter-lab-provider labextension is installed.\");\n",
       "        hide();\n",
       "        return;\n",
       "    }\n",
       "})();\n",
       "\n",
       "</script>\n",
       "<p\n",
       "    id=\"webio-warning-16050305944030993112\"\n",
       "    class=\"output_text output_stderr\"\n",
       "    style=\"padding: 1em; font-weight: bold;\"\n",
       ">\n",
       "    Unable to load WebIO. Please make sure WebIO works for your Jupyter client.\n",
       "    For troubleshooting, please see <a href=\"https://juliagizmos.github.io/WebIO.jl/latest/providers/ijulia/\">\n",
       "    the WebIO/IJulia documentation</a>.\n",
       "    <!-- TODO: link to installation docs. -->\n",
       "</p>\n"
      ],
      "text/plain": [
       "HTML{String}(\"<script>\\n// Immediately-invoked-function-expression to avoid global variables.\\n(function() {\\n    var warning_div = document.getElementById(\\\"webio-warning-16050305944030993112\\\");\\n    var hide = function () {\\n        var script = document.getElementById(\\\"webio-setup-10930970487575992933\\\");\\n        var parent = script && script.parentElement;\\n        var grandparent = parent && parent.parentElement;\\n        if (grandparent) {\\n            grandparent.style.display = \\\"none\\\";\\n        }\\n        warning_div.style.display = \\\"none\\\";\\n    };\\n    if (typeof Jupyter !== \\\"undefined\\\") {\\n        console.log(\\\"WebIO detected Jupyter notebook environment.\\\");\\n        // Jupyter notebook.\\n        var extensions = (\\n            Jupyter\\n            && Jupyter.notebook.config.data\\n            && Jupyter.notebook.config.data.load_extensions\\n        );\\n        if (extensions && extensions[\\\"webio-jupyter-notebook\\\"]) {\\n            // Extension already loaded.\\n            console.log(\\\"Jupyter WebIO nbextension detected; not loading ad-hoc.\\\");\\n            hide();\\n            return;\\n        }\\n    } else if (window.location.pathname.includes(\\\"/lab\\\")) {\\n        // Guessing JupyterLa\\n        console.log(\\\"Jupyter Lab detected; make sure the @webio/jupyter-lab-provider labextension is installed.\\\");\\n        hide();\\n        return;\\n    }\\n})();\\n\\n</script>\\n<p\\n    id=\\\"webio-warning-16050305944030993112\\\"\\n    class=\\\"output_text output_stderr\\\"\\n    style=\\\"padding: 1em; font-weight: bold;\\\"\\n>\\n    Unable to load WebIO. Please make sure WebIO works for your Jupyter client.\\n    For troubleshooting, please see <a href=\\\"https://juliagizmos.github.io/WebIO.jl/latest/providers/ijulia/\\\">\\n    the WebIO/IJulia documentation</a>.\\n    <!-- TODO: link to installation docs. -->\\n</p>\\n\")"
      ]
     },
     "metadata": {},
     "output_type": "display_data"
    },
    {
     "name": "stderr",
     "output_type": "stream",
     "text": [
      "┌ Info: Recompiling stale cache file /opt/julia/compiled/v1.2/Plots/ld3vC.ji for Plots [91a5bcdd-55d7-5caf-9e0b-520d859cae80]\n",
      "└ @ Base loading.jl:1240\n"
     ]
    },
    {
     "name": "stdout",
     "output_type": "stream",
     "text": [
      "\u001b[32m\u001b[1m  Updating\u001b[22m\u001b[39m registry at `/opt/julia/registries/General`\n",
      "\u001b[32m\u001b[1m  Updating\u001b[22m\u001b[39m git-repo `https://github.com/JuliaRegistries/General.git`\n",
      "\u001b[2K\u001b[?25h[1mFetching:\u001b[22m\u001b[39m [========================================>]  100.0 %.0 %\u001b[32m\u001b[1m Resolving\u001b[22m\u001b[39m package versions...\n",
      "\u001b[32m\u001b[1m  Updating\u001b[22m\u001b[39m `/opt/julia/environments/v1.2/Project.toml`\n",
      "\u001b[90m [no changes]\u001b[39m\n",
      "\u001b[32m\u001b[1m  Updating\u001b[22m\u001b[39m `/opt/julia/environments/v1.2/Manifest.toml`\n",
      "\u001b[90m [no changes]\u001b[39m\n"
     ]
    },
    {
     "name": "stderr",
     "output_type": "stream",
     "text": [
      "┌ Info: Recompiling stale cache file /opt/julia/compiled/v1.2/StatsPlots/SiylL.ji for StatsPlots [f3b207a7-027a-5e70-b257-86293d7955fd]\n",
      "└ @ Base loading.jl:1240\n"
     ]
    },
    {
     "name": "stdout",
     "output_type": "stream",
     "text": [
      "packages and functions imported\n",
      "\u001b[33mElapsed time = 126.15637683868408 seconds \u001b[39m\n",
      "\u001b[33m \u001b[39m\n"
     ]
    }
   ],
   "source": [
    "script_start_time = time()\n",
    "println(\"\\nimporting packages...\")\n",
    "\n",
    "using Pkg\n",
    "using Statistics\n",
    "using LinearAlgebra\n",
    "using Eirene\n",
    "using StatsBase\n",
    "using JLD\n",
    "using Plots\n",
    "using ColorSchemes\n",
    "using Pkg\n",
    "Pkg.add(\"StatsPlots\")\n",
    "using StatsPlots\n",
    "\n",
    "println(\"packages and functions imported\")\n",
    "printstyled(\"Elapsed time = $(time() - script_start_time) seconds \\n \\n\", color = :yellow)"
   ]
  },
  {
   "cell_type": "code",
   "execution_count": 2,
   "metadata": {},
   "outputs": [
    {
     "name": "stdout",
     "output_type": "stream",
     "text": [
      "Located the following graph files:\n",
      "DP_50_70_3_082520_backward_bettiBars.jld\n",
      "IID_50_70_082520_backward_bettiBars.jld\n",
      "RG_50_70_3_082520_backward_bettiBars.jld\n",
      "RL_50_70_082520_backward_bettiBars.jld\n",
      "assoc_700_100_100_20_20_09_05_082520_backward_bettiBars.jld\n",
      "coreperiph_700_100_100_20_20_09_05_082520_backward_bettiBars.jld\n",
      "cosineGeometric_50_70_3_082520_backward_bettiBars.jld\n",
      "disassort_700_100_100_20_20_09_05_082520_backward_bettiBars.jld\n",
      "discreteUniformConf_50_70_0_1000_082520_backward_bettiBars.jld\n",
      "geometricConf_500_700_001_1000_082520_backward_bettiBars.jld\n",
      "Size bettiBarAll is (50, 3, 10)\n"
     ]
    }
   ],
   "source": [
    "### Set parameters\n",
    "\n",
    "# Parameters for all graphs\n",
    "const NNODES = 70\n",
    "const MAXDIM = 3    # Maximum persistent homology dimension\n",
    "const NREPS = 50\n",
    "const NAMEID = \"backward\"\n",
    "\n",
    "\n",
    "### Locate data\n",
    "read_dir = \"../processed_data/results/$(NNODES)nodes\"\n",
    "save_dir = \"../figures\"\n",
    "eirene_files = filter(x->occursin(\"$(NAMEID)_bettiBars.jld\",x), readdir(read_dir))\n",
    "println(\"Located the following graph files:\")\n",
    "for eirene_file in eirene_files\n",
    "    println(eirene_file)\n",
    "end\n",
    "model_names = [split(eirene_file,\"_\")[1] for eirene_file in eirene_files]\n",
    "\n",
    "\n",
    "### Create one large plot with all of the betti curves\n",
    "nModels = length(eirene_files)\n",
    "nEdges = binomial(NNODES, 2)\n",
    "bettiBarAll = zeros(NREPS, MAXDIM, nModels)\n",
    "muBarAll = zeros(NREPS, MAXDIM, nModels)\n",
    "nuBarAll = zeros(NREPS, MAXDIM, nModels)\n",
    "for (i,eirene_file) in enumerate(eirene_files)\n",
    "\n",
    "    # Read in Betti curves\n",
    "    bettiBar_dict = load(\"$(read_dir)/$(eirene_file)\")\n",
    "    bettiBarAll[:,:, i] = bettiBar_dict[\"bettiBarArray\"]\n",
    "    muBarAll[:,:, i] = bettiBar_dict[\"muBarArray\"]\n",
    "    nuBarAll[:,:, i] = bettiBar_dict[\"nuBarArray\"]\n",
    "\n",
    "end\n",
    "\n",
    "\n",
    "println(\"Size bettiBarAll is $(size(bettiBarAll))\")\n",
    "\n",
    "\n",
    "\n",
    "# Plot\n",
    "p1a = violin(bettiBarAll[:,1,:],\n",
    "    legend = false, alpha = 0.4, title = \"dim 1\")\n",
    "p1b = violin(bettiBarAll[:,2,:],\n",
    "    legend = false, alpha = 0.4, title = \"dim 2\")\n",
    "p1c = violin(bettiBarAll[:,3,:],\n",
    "    legend = false, alpha = 0.4, title = \"dim 3\")\n",
    "xlabel!(\"graphs\")\n",
    "ylabel!(\"BettiBar\")\n",
    "\n",
    "plot(p1a, p1b, p1c, layout = (3,1))\n",
    "\n",
    "savefig(\"../figures/all_bettiBars.pdf\")\n",
    "\n",
    "\n",
    "p2a = violin(muBarAll[:,1,:],\n",
    "    legend = false, alpha = 0.4, title = \"dim 1\")\n",
    "p2b = violin(muBarAll[:,2,:],\n",
    "    legend = false, alpha = 0.4, title = \"dim 2\")\n",
    "p2c = violin(muBarAll[:,3,:],\n",
    "    legend = false, alpha = 0.4, title = \"dim 3\")\n",
    "xlabel!(\"graphs\")\n",
    "ylabel!(\"muBar\")\n",
    "\n",
    "plot(p2a, p2b, p2c, layout = (3,1))\n",
    "\n",
    "savefig(\"../figures/all_muBars.pdf\")\n",
    "\n",
    "\n",
    "p3a = violin(nuBarAll[:,1,:],\n",
    "    legend = false, alpha = 0.4, title = \"dim 1\")\n",
    "p3b = violin(nuBarAll[:,2,:],\n",
    "    legend = false, alpha = 0.4, title = \"dim 2\")\n",
    "p3c = violin(nuBarAll[:,3,:],\n",
    "    legend = false, alpha = 0.4, title = \"dim 3\")\n",
    "xlabel!(\"graphs\")\n",
    "ylabel!(\"muBar\")\n",
    "\n",
    "plot(p3a, p3b, p3c, layout = (3,1))\n",
    "\n",
    "savefig(\"../figures/all_nuBars.pdf\")\n",
    "\n"
   ]
  },
  {
   "cell_type": "code",
   "execution_count": null,
   "metadata": {},
   "outputs": [],
   "source": []
  }
 ],
 "metadata": {
  "kernelspec": {
   "display_name": "Julia 1.2.0",
   "language": "julia",
   "name": "julia-1.2"
  },
  "language_info": {
   "file_extension": ".jl",
   "mimetype": "application/julia",
   "name": "julia",
   "version": "1.2.0"
  }
 },
 "nbformat": 4,
 "nbformat_minor": 2
}
